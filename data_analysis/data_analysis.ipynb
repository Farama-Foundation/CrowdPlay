{
    "cells": [
        {
            "cell_type": "markdown",
            "metadata": {},
            "source": [
                "# Introduction\n",
                "\n",
                "This file is used to generate most of the tables and plots in the CrowdPlay paper, and also serves as a set of examples of how to use the CrowdPlay dataset API.\n",
                "\n",
                "\n",
                "## Start\n",
                "We first load all prerequisites, and initialize the dataset engine. We then load all the episodes, users, etc. from the dataset. This takes a while; In practice, if you do not need the entire dataset, it can be faster to filter using an SQL query at this stage already - see the offline RL script for an example. On the other hand, if you load the entire dataset, you can then filter using native Python code (e.g. list comprehension), which can be convenient.\n"
            ]
        },
        {
            "cell_type": "code",
            "execution_count": 1,
            "metadata": {},
            "outputs": [],
            "source": [
                "import numpy as np\n",
                "import matplotlib.pyplot as plt\n",
                "import pandas\n",
                "import os\n",
                "import math\n",
                "import seaborn as sns\n",
                "from datetime import datetime, timedelta\n",
                "sns.set()\n",
                "\n",
                "from crowdplay_datasets.dataset import get_trajectory_by_id, get_engine_and_session, EpisodeModel, UserModel, EnvironmentModel, EnvironmentKeywordDataModel, EpisodeKeywordDataModel\n",
                "_, session = get_engine_and_session(\"crowdplay_atari-v0\")\n",
                "\n",
                "P1 = 'game_0>player_0'"
            ]
        },
        {
            "cell_type": "code",
            "execution_count": 2,
            "metadata": {},
            "outputs": [],
            "source": [
                "# All the episodes, users and environments, for further filtering in Python\n",
                "all_episodes = session.query(EpisodeModel).all()\n",
                "all_users = session.query(UserModel).all()\n",
                "all_environments = session.query(EnvironmentModel).all()\n",
                "all_tasks = sorted(list({environment.task_id for environment in all_environments}))"
            ]
        },
        {
            "cell_type": "markdown",
            "metadata": {},
            "source": [
                "## Analysis of the Incentives experiments\n",
                "\n",
                "We first analyze the data from the incentive experiments. Because we want to compare data from both this experiment as well as episodes from social media and email users, some of our data has slightly different metadata structure - the key we want to filter by is different for these. So we first generate uniform metadata that we can then plot side by side. Notice that we do not need to load any trajectories for this, we purely work with metadata in the dataset database."
            ]
        },
        {
            "cell_type": "code",
            "execution_count": 3,
            "metadata": {},
            "outputs": [],
            "source": [
                "# Data for incentives experiment\n",
                "\n",
                "incentive_tasks = {\n",
                "    'space_invaders_insideout_timeonly' : 'No incentives', \n",
                "    'space_invaders_insideout_activetime': 'Active Time', \n",
                "    'space_invaders_insideout_taskrequirement': 'Quality Requirement', \n",
                "    'space_invaders_insideout_bonusonly': 'Scaling Bonus', \n",
                "    'space_invaders_insideout_allincentives': 'All Incentives', \n",
                "    'space_invaders_insideout_socialmedia': 'Social Media Users', \n",
                "    'space_invaders_insideout_email': 'Email Raffle'\n",
                "    }\n",
                "incentive_episodes = [ep for ep in all_episodes if ep.environment.task_id in incentive_tasks]\n",
                "incentive_users = [u for u in all_users if u.environment.task_id in incentive_tasks]\n",
                "incentive_environments = [env for env in all_environments if env.task_id in incentive_tasks]\n",
                "\n",
                "# Set 'task adherence fraction'\n",
                "for task in incentive_tasks:\n",
                "    key = 'Correct aliens shot (fraction)'\n",
                "    if task in ['space_invaders_insideout_socialmedia', 'space_invaders_insideout_email']:\n",
                "        key = 'Aliens hit in order (fraction)'\n",
                "    for ep in incentive_episodes:\n",
                "        if ep.environment.task_id == task:\n",
                "            ep.keyword_data['task_adherence_fraction'] = ep.keyword_data[P1][key]\n",
                "    for env in incentive_environments:\n",
                "        if env.task_id == task:\n",
                "            env.keyword_data['task_adherence_fraction'] = env.keyword_data[P1][key]\n",
                "\n",
                "\n",
                "# Set 'task adherence total'\n",
                "for task in incentive_tasks:\n",
                "    key = 'Correct aliens shot (total)'\n",
                "    if task in ['space_invaders_insideout_socialmedia', 'space_invaders_insideout_email']:\n",
                "        key = 'Aliens hit in order'\n",
                "    for ep in incentive_episodes:\n",
                "        if ep.environment.task_id == task:\n",
                "            ep.keyword_data['task_adherence_total'] = ep.keyword_data[P1][key]\n",
                "    for env in incentive_environments:\n",
                "        if env.task_id == task:\n",
                "            env.keyword_data['task_adherence_total'] = env.keyword_data[P1][key]\n",
                "\n",
                "\n"
            ]
        },
        {
            "cell_type": "code",
            "execution_count": 4,
            "metadata": {},
            "outputs": [],
            "source": [
                "\n",
                "quality_cutoff = 0.8\n",
                "\n",
                "for env in incentive_environments:\n",
                "    env.keyword_data['length_of_good_episodes'] = sum([ep.keyword_data[P1]['Time played'].total_seconds() for ep in env.episodes if ep.keyword_data['task_adherence_fraction'] >= quality_cutoff])\n",
                "    env.keyword_data['length_of_bad_episodes'] = sum([ep.keyword_data[P1]['Time played'].total_seconds() for ep in env.episodes if ep.keyword_data['task_adherence_fraction'] < quality_cutoff])\n",
                "    env.keyword_data['fraction_of_good_data'] = env.keyword_data['length_of_good_episodes'] / (env.keyword_data['length_of_good_episodes'] + env.keyword_data['length_of_bad_episodes'])"
            ]
        },
        {
            "cell_type": "code",
            "execution_count": 5,
            "metadata": {},
            "outputs": [],
            "source": [
                "env_data = []\n",
                "for env in incentive_environments:\n",
                "    if ((env.task_id != 'space_invaders_insideout_socialmedia' and env.task_id != 'space_invaders_insideout_email' ) or \n",
                "        (env.task_id == 'space_invaders_insideout_socialmedia' and env.keyword_data['task_adherence_fraction'] > 0.8  and env.keyword_data['task_adherence_total'] > 20 and env.keyword_data[P1]['Time played'] > timedelta(minutes=0)) or\n",
                "        (env.task_id == 'space_invaders_insideout_email' and env.keyword_data['task_adherence_fraction'] > 0.8  and env.keyword_data[P1]['Score'] > 2000 and env.keyword_data[P1]['Active playtime'] >= timedelta(minutes=10)) \n",
                "            ):\n",
                "        env_data.append((incentive_tasks[env.task_id], 'Total',env.keyword_data['length_of_good_episodes']))\n",
                "        env_data.append((incentive_tasks[env.task_id], 'Fraction',env.keyword_data['fraction_of_good_data']))\n",
                "\n",
                "env_data = pandas.DataFrame(env_data, columns=('task', 'Measurement', 'value'))"
            ]
        },
        {
            "cell_type": "markdown",
            "metadata": {},
            "source": [
                "We are now ready to plot the data quality for different incentive treatments and social media / email users."
            ]
        },
        {
            "cell_type": "code",
            "execution_count": 8,
            "metadata": {},
            "outputs": [
                {
                    "name": "stderr",
                    "output_type": "stream",
                    "text": [
                        "/Users/matthias/.pyenv/versions/3.7.7/envs/atari-crowdsourcing-test/lib/python3.7/site-packages/ipykernel_launcher.py:27: UserWarning: FixedFormatter should only be used together with FixedLocator\n"
                    ]
                },
                {
                    "data": {
                        "image/png": "[encoded data removed]",
                        "text/plain": [
                            "<Figure size 432x288 with 2 Axes>"
                        ]
                    },
                    "metadata": {},
                    "output_type": "display_data"
                }
            ],
            "source": [
                "env_data_scaled = env_data.copy()\n",
                "\n",
                "# Scale the data, just a simple example of how you might determine the scaling\n",
                "mask = env_data_scaled.Measurement.isin(['Fraction',])\n",
                "# scale = int(env_data_scaled[~mask].value.mean()\n",
                "            # /env_data_scaled[mask].value.mean())\n",
                "scale = 1000\n",
                "env_data_scaled.loc[mask, 'value'] = env_data_scaled.loc[mask, 'value']*scale\n",
                "\n",
                "\n",
                "fig, ax1 = plt.subplots()\n",
                "plt.xticks(rotation=45)\n",
                "plt.ylim(0,1200)\n",
                "fig.subplots_adjust(bottom=0.3)\n",
                "\n",
                "# plot = sns.barplot(x=\"task\", y=\"value\", hue='Measurement', ci=95, data=env_data_scaled, order=incentive_tasks.values(), estimator=np.median)\n",
                "plot = sns.barplot(x=\"task\", y=\"value\", hue='Measurement', ci=95, data=env_data_scaled, order=incentive_tasks.values())\n",
                "# Create a second y-axis with the scaled ticks\n",
                "ax1.set_ylabel('Total amount of good data per participant (s)')\n",
                "ax1.set_xlabel('Treatment / User Group')\n",
                "ax2 = ax1.twinx()\n",
                "\n",
                "# Ensure ticks occur at the same positions, then modify labels\n",
                "ax2.grid(None)\n",
                "ax2.set_ylim(ax1.get_ylim())\n",
                "ax2.set_yticklabels(np.round(ax1.get_yticks()/scale,1))\n",
                "ax2.set_ylabel('Average fraction of good data per participant')\n",
                "\n",
                "\n",
                "\n",
                "plt.savefig(\"incentives.pdf\")\n",
                "plt.show()\n",
                "plt.close()"
            ]
        },
        {
            "cell_type": "markdown",
            "metadata": {},
            "source": [
                "And we also generate a table of p-values for each combination of treatments:"
            ]
        },
        {
            "cell_type": "code",
            "execution_count": 62,
            "metadata": {},
            "outputs": [
                {
                    "name": "stdout",
                    "output_type": "stream",
                    "text": [
                        "Measurement: Total\n",
                        "\\hline\n",
                        "vs & Email Raffle & Social Media Users & All Incentives & Scaling Bonus & Quality Requirement & Active Time  \\\\\n",
                        "\\hline\n",
                        "No incentives & \\textbf{0.000} & 0.600 & \\textbf{0.000} & \\textbf{0.001} & \\textbf{0.006} & 0.621  \\\\\n",
                        "\\hline\n",
                        "Active Time & \\textbf{0.000} & 0.362 & \\textbf{0.000} & \\textbf{0.000} & \\textbf{0.006} &  \\\\\n",
                        "\\hline\n",
                        "Quality Requirement & 0.738 & 0.368 & 0.811 & 0.105 &  & \\\\\n",
                        "\\hline\n",
                        "Scaling Bonus & 0.341 & 0.256 & \\textbf{0.021} &  & & \\\\\n",
                        "\\hline\n",
                        "All Incentives & 0.658 & 0.135 &  & & & \\\\\n",
                        "\\hline\n",
                        "Social Media Users & \\textbf{0.002} &  & & & & \\\\\n",
                        "\\hline\n",
                        "Measurement: Fraction\n",
                        "\\hline\n",
                        "vs & Email Raffle & Social Media Users & All Incentives & Scaling Bonus & Quality Requirement & Active Time  \\\\\n",
                        "\\hline\n",
                        "No incentives & \\textbf{0.001} & \\textbf{0.000} & \\textbf{0.000} & \\textbf{0.001} & \\textbf{0.000} & 0.440  \\\\\n",
                        "\\hline\n",
                        "Active Time & \\textbf{0.000} & \\textbf{0.000} & \\textbf{0.000} & \\textbf{0.000} & \\textbf{0.000} &  \\\\\n",
                        "\\hline\n",
                        "Quality Requirement & 0.152 & \\textbf{0.039} & 0.433 & \\textbf{0.035} & "
                    ]
                },
                {
                    "name": "stderr",
                    "output_type": "stream",
                    "text": [
                        "/Users/matthias/.pyenv/versions/3.7.7/envs/atari-crowdsourcing-test/lib/python3.7/site-packages/ipykernel_launcher.py:21: UserWarning: Boolean Series key will be reindexed to match DataFrame index.\n",
                        "/Users/matthias/.pyenv/versions/3.7.7/envs/atari-crowdsourcing-test/lib/python3.7/site-packages/ipykernel_launcher.py:22: UserWarning: Boolean Series key will be reindexed to match DataFrame index.\n"
                    ]
                },
                {
                    "name": "stdout",
                    "output_type": "stream",
                    "text": [
                        " & \\\\\n",
                        "\\hline\n",
                        "Scaling Bonus & 0.086 & \\textbf{0.031} & \\textbf{0.006} &  & & \\\\\n",
                        "\\hline\n",
                        "All Incentives & 0.123 & \\textbf{0.016} &  & & & \\\\\n",
                        "\\hline\n",
                        "Social Media Users & 0.318 &  & & & & \\\\\n",
                        "\\hline\n"
                    ]
                }
            ],
            "source": [
                "import scipy\n",
                "\n",
                "for measurement in ['Total', 'Fraction']:\n",
                "    print(f\"Measurement: {measurement}\")\n",
                "    print(\"\\\\hline\")\n",
                "    print(f\"vs & \", end='')\n",
                "    for it2 in reversed(range(len(incentive_tasks.values()))):\n",
                "        if it2 == 0: continue\n",
                "        t2 = list(incentive_tasks.values())[it2]\n",
                "        print(f\"{t2} {'&' if not it2 == 1 else ''} \", end='')\n",
                "    print(\"\\\\\\\\\")\n",
                "    print(\"\\\\hline\")\n",
                "    for it1 in range(len(incentive_tasks.values())):\n",
                "        if it1 == len(incentive_tasks.values()) - 1: continue\n",
                "        t1 = list(incentive_tasks.values())[it1]\n",
                "        print(f\"{t1} & \", end='')\n",
                "        for it2 in reversed(range(len(incentive_tasks.values()))):\n",
                "            if it2 == 0: continue\n",
                "            t2 = list(incentive_tasks.values())[it2]\n",
                "            cat1 = env_data[env_data['task']==t1][env_data['Measurement']==measurement]\n",
                "            cat2 = env_data[env_data['task']==t2][env_data['Measurement']==measurement]\n",
                "            test = scipy.stats.ttest_ind(cat1['value'], cat2['value'])\n",
                "            if it2 > it1:\n",
                "                if test.pvalue <= 0.05:\n",
                "                    print(f\"\\\\textbf{{{test.pvalue:.3f}}} {'&' if not it2 == 1 else ''} \", end='')\n",
                "                else:\n",
                "                    print(f\"{test.pvalue:.3f} {'&' if not it2 == 1 else ''} \", end='')\n",
                "            else:\n",
                "                print(f\" {'&' if not it2 == 1 else ''}\", end='')\n",
                "        print(\"\\\\\\\\\")\n",
                "        print(\"\\\\hline\")\n"
            ]
        },
        {
            "cell_type": "markdown",
            "metadata": {},
            "source": [
                "## Multiagent data: human-human vs human-AI\n",
                "\n",
                "In many nominally human-human multiagent settings, we use fallback AI policies to take over if one human disconnects, to ensure an uninterrupted experience for the remaining human player. We would like to account correctly for how much human-human multiagent data we have. We did not store this as metadata explicitly when we collected these trajectories, but we do store inside the trajectory the agents in control at every frame. So we calculate the amount of human-human and human-AI data now. To do that, we load each trajectory, and count the number of frames where two humans were present as well as the number of frames where one humand and one AI were playing."
            ]
        },
        {
            "cell_type": "code",
            "execution_count": 4,
            "metadata": {},
            "outputs": [],
            "source": [
                "ai_tasks = ['space_invaders_2p_competitive_mturk', 'space_invaders_2p_cooperative_mturk', 'space_invaders_2p_competitive_email', 'space_invaders_2p_cooperative_email', 'spaceinvaders_cooperative_socialmedia']\n"
            ]
        },
        {
            "cell_type": "code",
            "execution_count": 5,
            "metadata": {},
            "outputs": [
                {
                    "name": "stdout",
                    "output_type": "stream",
                    "text": [
                        "Processed: 3021, unprocessed: 0, total: 3021\n"
                    ]
                }
            ],
            "source": [
                "processed = 0\n",
                "unprocessed = 0\n",
                "for ep in all_episodes:\n",
                "    if ep.environment.task_id in ai_tasks:\n",
                "        if 'total_frames_humanhuman' not in ep.keyword_data['all']:\n",
                "            print(f\"{ep.episode_id}\")\n",
                "            unprocessed += 1\n",
                "        else:\n",
                "            processed += 1\n",
                "print(f\"Processed: {processed}, unprocessed: {unprocessed}, total: {processed+unprocessed}\")"
            ]
        },
        {
            "cell_type": "code",
            "execution_count": null,
            "metadata": {},
            "outputs": [],
            "source": [
                "# Calculate exact human-human and human-AI data in MTurk tasks\n",
                "# You MUST run the first two cells of the notebook again after this, or things WILL break.\n",
                "n = 0\n",
                "for task in ai_tasks:\n",
                "    num_frames_humanhuman = 0\n",
                "    num_frames_humanai = 0\n",
                "    for ep in all_episodes:\n",
                "        if ep.environment.task_id == task:\n",
                "            if 'all' not in ep.keyword_data or 'total_frames_humanhuman' not in ep.keyword_data['all']:\n",
                "                print(f\"Parsing episode {ep.episode_id}\")\n",
                "                trajectory = get_trajectory_by_id(ep.episode_id)\n",
                "                num_frames_humanhuman = 0\n",
                "                num_frames_humanai = 0\n",
                "                for step in trajectory:\n",
                "                    if step['user_type']['game_0>player_0'] == 1 and step['user_type']['game_0>player_1'] == 1:\n",
                "                        num_frames_humanhuman += 1\n",
                "                    elif step['user_type']['game_0>player_0'] == 2 or step['user_type']['game_0>player_1'] == 2:\n",
                "                        num_frames_humanai += 1\n",
                "                    else:\n",
                "                        print(f\"Unexpected user types: {step.user_types}\")\n",
                "                kw_model = EpisodeKeywordDataModel(\n",
                "                            episode_id=ep.episode_id,\n",
                "                            agent_id='all',\n",
                "                            key='total_frames_humanhuman',\n",
                "                            value=num_frames_humanhuman,\n",
                "                        )\n",
                "                session.merge(kw_model)\n",
                "                session.commit()\n",
                "                kw_model = EpisodeKeywordDataModel(\n",
                "                            episode_id=ep.episode_id,\n",
                "                            agent_id='all',\n",
                "                            key='total_frames_humanai',\n",
                "                            value=num_frames_humanai,\n",
                "                        )\n",
                "                session.merge(kw_model)\n",
                "                session.commit()\n",
                "                n+=1\n",
                "                print(f\"Processed {n} episodes.\")\n",
                "            else:\n",
                "                print(f\"Skipping episode {ep.episode_id}\")\n",
                "all_episodes = session.query(EpisodeModel).all()"
            ]
        },
        {
            "cell_type": "code",
            "execution_count": 52,
            "metadata": {},
            "outputs": [
                {
                    "name": "stdout",
                    "output_type": "stream",
                    "text": [
                        "Task space_invaders_2p_competitive_mturk has total frames human-human: 560868, in hours: 2.596611111111111,      total frames human-AI: 8348264, in hours: 38.64937037037037\n",
                        "Task space_invaders_2p_cooperative_mturk has total frames human-human: 810848, in hours: 3.753925925925926,      total frames human-AI: 1239179, in hours: 5.736939814814815\n",
                        "Task space_invaders_2p_competitive_email has total frames human-human: 90672, in hours: 0.4197777777777778,      total frames human-AI: 0, in hours: 0.0\n",
                        "Task space_invaders_2p_cooperative_email has total frames human-human: 84686, in hours: 0.3920648148148148,      total frames human-AI: 0, in hours: 0.0\n",
                        "Task spaceinvaders_cooperative_socialmedia has total frames human-human: 82613, in hours: 0.3824675925925926,      total frames human-AI: 0, in hours: 0.0\n"
                    ]
                }
            ],
            "source": [
                "for task in ai_tasks:\n",
                "    num_frames_humanhuman = 0\n",
                "    num_frames_humanai = 0\n",
                "    for ep in all_episodes:\n",
                "        if ep.environment.task_id == task:\n",
                "            num_frames_humanhuman += ep.keyword_data['all']['total_frames_humanhuman']\n",
                "            num_frames_humanai += ep.keyword_data['all']['total_frames_humanai']\n",
                "    print(f\"Task {task} has total frames human-human: {num_frames_humanhuman}, in hours: {num_frames_humanhuman/(60*60*60)},      total frames human-AI: {num_frames_humanai}, in hours: {num_frames_humanai/(60*60*60)}\")\n",
                "    # print(f\"Task {task} has total frames human-AI: {num_frames_humanai}, in hours: {num_frames_humanai/(60*60*60)}\")"
            ]
        },
        {
            "cell_type": "markdown",
            "metadata": {},
            "source": [
                "## Dataset overview tables\n",
                "\n",
                "We now automatically generate the overview tables with the number of hours of data for each game and type of task. You must first run the code in the Multiagent data section"
            ]
        },
        {
            "cell_type": "code",
            "execution_count": 11,
            "metadata": {},
            "outputs": [
                {
                    "name": "stdout",
                    "output_type": "stream",
                    "text": [
                        "['beam_rider', 'breakout', 'montezuma_revenge', 'qbert', 'riverraid', 'space_invaders', 'space_invaders_2p', 'space_invaders_ai']\n",
                        "['competitive', 'cooperative', 'insideout', 'insideout_incentives', 'left', 'outsidein', 'plain', 'right', 'rowbyrow']\n",
                        "['email', 'mturk', 'socialmedia']\n"
                    ]
                }
            ],
            "source": [
                "all_games = {env.keyword_data['all']['game'] for env in all_environments if 'all' in env.keyword_data and 'game' in env.keyword_data['all']}\n",
                "all_tasks_kw = {env.keyword_data['all']['task'] for env in all_environments if 'all' in env.keyword_data and 'task' in env.keyword_data['all']}\n",
                "all_sources = {env.keyword_data['all']['source'] for env in all_environments if 'all' in env.keyword_data and 'source' in env.keyword_data['all']}\n",
                "print(sorted(all_games))\n",
                "print(sorted(all_tasks_kw))\n",
                "print(sorted(all_sources))"
            ]
        },
        {
            "cell_type": "code",
            "execution_count": 12,
            "metadata": {},
            "outputs": [],
            "source": [
                "nice_task_names = {\n",
                "    'beam_rider': 'Beamrider',\n",
                "    'breakout': 'Breakout',\n",
                "    'montezuma_revenge': 'Montezuma\\'s Revenge', \n",
                "    'qbert': 'Q*Bert', \n",
                "    'riverraid': 'Riverraid', \n",
                "    'space_invaders': 'Space Invaders', \n",
                "    'space_invaders_2p': 'Space Invaders (2P)', \n",
                "    'space_invaders_ai': 'Space Invaders (2P w/AI)'\n",
                "}"
            ]
        },
        {
            "cell_type": "code",
            "execution_count": 13,
            "metadata": {},
            "outputs": [],
            "source": [
                "all_tasks_sorted = ['plain', 'competitive', 'cooperative', 'left', 'right', 'insideout', 'outsidein', 'rowbyrow', 'insideout_incentives', ]"
            ]
        },
        {
            "cell_type": "code",
            "execution_count": 14,
            "metadata": {},
            "outputs": [
                {
                    "name": "stdout",
                    "output_type": "stream",
                    "text": [
                        "\\textbf{Beamrider} & \\textbf{7.90} & \\textbf{-} & \\textbf{-} & \\textbf{7.90} \\\\\n",
                        "\\textbf{Breakout} & \\textbf{11.45} & \\textbf{-} & \\textbf{-} & \\textbf{11.45} \\\\\n",
                        "\\textbf{Montezuma's Revenge} & \\textbf{16.70} & \\textbf{3.75} & \\textbf{5.19} & \\textbf{25.65} \\\\\n",
                        "\\textbf{Q*Bert} & \\textbf{6.97} & \\textbf{2.90} & \\textbf{-} & \\textbf{9.87} \\\\\n",
                        "\\textbf{Riverraid} & \\textbf{17.64} & \\textbf{4.47} & \\textbf{3.10} & \\textbf{25.20} \\\\\n",
                        "    - plain & 5.35 & 3.78 & 2.00 & 11.12 \\\\\n",
                        "    - left & 6.78 & 0.45 & 0.70 & 7.94 \\\\\n",
                        "    - right & 5.51 & 0.23 & 0.40 & 6.14 \\\\\n",
                        "\\textbf{Space Invaders} & \\textbf{196.09} & \\textbf{18.34} & \\textbf{7.10} & \\textbf{221.53} \\\\\n",
                        "    - plain & 13.22 & 17.83 & 5.98 & 37.03 \\\\\n",
                        "    - left & 18.80 & - & - & 18.80 \\\\\n",
                        "    - right & 36.35 & - & - & 36.35 \\\\\n",
                        "    - insideout & 16.49 & 0.42 & 1.12 & 18.03 \\\\\n",
                        "    - outsidein & 13.44 & - & - & 13.44 \\\\\n",
                        "    - rowbyrow & 16.38 & 0.09 & - & 16.47 \\\\\n",
                        "    - insideout incentives & 81.41 & - & - & 81.41 \\\\\n"
                    ]
                },
                {
                    "ename": "KeyError",
                    "evalue": "'total_frames_humanhuman'",
                    "output_type": "error",
                    "traceback": [
                        "\u001b[0;31m---------------------------------------------------------------------------\u001b[0m",
                        "\u001b[0;31mKeyError\u001b[0m                                  Traceback (most recent call last)",
                        "\u001b[0;32m/var/folders/y8/_bm4phj5135_3cbz3mf5v0s40000gn/T/ipykernel_77716/886228299.py\u001b[0m in \u001b[0;36m<module>\u001b[0;34m\u001b[0m\n\u001b[1;32m     25\u001b[0m \u001b[0;34m\u001b[0m\u001b[0m\n\u001b[1;32m     26\u001b[0m \u001b[0;32mfor\u001b[0m \u001b[0mg\u001b[0m \u001b[0;32min\u001b[0m \u001b[0msorted\u001b[0m\u001b[0;34m(\u001b[0m\u001b[0mall_games\u001b[0m\u001b[0;34m)\u001b[0m\u001b[0;34m:\u001b[0m\u001b[0;34m\u001b[0m\u001b[0;34m\u001b[0m\u001b[0m\n\u001b[0;32m---> 27\u001b[0;31m     \u001b[0mprint\u001b[0m\u001b[0;34m(\u001b[0m\u001b[0;34mf\"\\\\textbf{{{nice_task_names[g]}}} & \\\\textbf{{{get_total_time_by_variant(game=g, source='mturk')}}} & \\\\textbf{{{get_total_time_by_variant(game=g, source='socialmedia')}}} & \\\\textbf{{{get_total_time_by_variant(game=g, source='email')}}} & \\\\textbf{{{get_total_time_by_variant(game=g)}}} \\\\\\\\\"\u001b[0m\u001b[0;34m)\u001b[0m\u001b[0;34m\u001b[0m\u001b[0;34m\u001b[0m\u001b[0m\n\u001b[0m\u001b[1;32m     28\u001b[0m     \u001b[0mn\u001b[0m \u001b[0;34m=\u001b[0m \u001b[0;36m0\u001b[0m\u001b[0;34m\u001b[0m\u001b[0;34m\u001b[0m\u001b[0m\n\u001b[1;32m     29\u001b[0m     \u001b[0;32mfor\u001b[0m \u001b[0mt\u001b[0m \u001b[0;32min\u001b[0m \u001b[0mall_tasks_sorted\u001b[0m\u001b[0;34m:\u001b[0m\u001b[0;34m\u001b[0m\u001b[0;34m\u001b[0m\u001b[0m\n",
                        "\u001b[0;32m/var/folders/y8/_bm4phj5135_3cbz3mf5v0s40000gn/T/ipykernel_77716/886228299.py\u001b[0m in \u001b[0;36mget_total_time_by_variant\u001b[0;34m(game, task, source, output)\u001b[0m\n\u001b[1;32m     16\u001b[0m \u001b[0;34m\u001b[0m\u001b[0m\n\u001b[1;32m     17\u001b[0m     \u001b[0;32melse\u001b[0m\u001b[0;34m:\u001b[0m\u001b[0;34m\u001b[0m\u001b[0;34m\u001b[0m\u001b[0m\n\u001b[0;32m---> 18\u001b[0;31m         \u001b[0ms\u001b[0m \u001b[0;34m=\u001b[0m \u001b[0msum\u001b[0m\u001b[0;34m(\u001b[0m\u001b[0;34m[\u001b[0m\u001b[0msum\u001b[0m\u001b[0;34m(\u001b[0m\u001b[0;34m[\u001b[0m\u001b[0mep\u001b[0m\u001b[0;34m.\u001b[0m\u001b[0mkeyword_data\u001b[0m\u001b[0;34m[\u001b[0m\u001b[0;34m'all'\u001b[0m\u001b[0;34m]\u001b[0m\u001b[0;34m[\u001b[0m\u001b[0;34m'total_frames_humanhuman'\u001b[0m\u001b[0;34m]\u001b[0m\u001b[0;34m/\u001b[0m\u001b[0;34m(\u001b[0m\u001b[0;36m60\u001b[0m\u001b[0;34m*\u001b[0m\u001b[0;36m60\u001b[0m\u001b[0;34m*\u001b[0m\u001b[0;36m60\u001b[0m\u001b[0;34m)\u001b[0m \u001b[0;32mfor\u001b[0m \u001b[0mep\u001b[0m \u001b[0;32min\u001b[0m \u001b[0menv\u001b[0m\u001b[0;34m.\u001b[0m\u001b[0mepisodes\u001b[0m\u001b[0;34m]\u001b[0m\u001b[0;34m)\u001b[0m \u001b[0;32mfor\u001b[0m \u001b[0menv\u001b[0m \u001b[0;32min\u001b[0m \u001b[0mall_environments\u001b[0m \u001b[0;32mif\u001b[0m \u001b[0mbase_condition\u001b[0m\u001b[0;34m(\u001b[0m\u001b[0menv\u001b[0m\u001b[0;34m)\u001b[0m \u001b[0;32mand\u001b[0m \u001b[0mcondition\u001b[0m\u001b[0;34m(\u001b[0m\u001b[0;34m'game'\u001b[0m\u001b[0;34m,\u001b[0m \u001b[0mgame\u001b[0m\u001b[0;34m)\u001b[0m\u001b[0;34m(\u001b[0m\u001b[0menv\u001b[0m\u001b[0;34m)\u001b[0m \u001b[0;32mand\u001b[0m \u001b[0mcondition\u001b[0m\u001b[0;34m(\u001b[0m\u001b[0;34m'task'\u001b[0m\u001b[0;34m,\u001b[0m \u001b[0mtask\u001b[0m\u001b[0;34m)\u001b[0m\u001b[0;34m(\u001b[0m\u001b[0menv\u001b[0m\u001b[0;34m)\u001b[0m \u001b[0;32mand\u001b[0m \u001b[0mcondition\u001b[0m\u001b[0;34m(\u001b[0m\u001b[0;34m'source'\u001b[0m\u001b[0;34m,\u001b[0m \u001b[0msource\u001b[0m\u001b[0;34m)\u001b[0m\u001b[0;34m(\u001b[0m\u001b[0menv\u001b[0m\u001b[0;34m)\u001b[0m\u001b[0;34m]\u001b[0m\u001b[0;34m)\u001b[0m\u001b[0;34m\u001b[0m\u001b[0;34m\u001b[0m\u001b[0m\n\u001b[0m\u001b[1;32m     19\u001b[0m \u001b[0;34m\u001b[0m\u001b[0m\n\u001b[1;32m     20\u001b[0m     \u001b[0;32mif\u001b[0m \u001b[0moutput\u001b[0m \u001b[0;34m==\u001b[0m \u001b[0;34m'float'\u001b[0m\u001b[0;34m:\u001b[0m\u001b[0;34m\u001b[0m\u001b[0;34m\u001b[0m\u001b[0m\n",
                        "\u001b[0;32m/var/folders/y8/_bm4phj5135_3cbz3mf5v0s40000gn/T/ipykernel_77716/886228299.py\u001b[0m in \u001b[0;36m<listcomp>\u001b[0;34m(.0)\u001b[0m\n\u001b[1;32m     16\u001b[0m \u001b[0;34m\u001b[0m\u001b[0m\n\u001b[1;32m     17\u001b[0m     \u001b[0;32melse\u001b[0m\u001b[0;34m:\u001b[0m\u001b[0;34m\u001b[0m\u001b[0;34m\u001b[0m\u001b[0m\n\u001b[0;32m---> 18\u001b[0;31m         \u001b[0ms\u001b[0m \u001b[0;34m=\u001b[0m \u001b[0msum\u001b[0m\u001b[0;34m(\u001b[0m\u001b[0;34m[\u001b[0m\u001b[0msum\u001b[0m\u001b[0;34m(\u001b[0m\u001b[0;34m[\u001b[0m\u001b[0mep\u001b[0m\u001b[0;34m.\u001b[0m\u001b[0mkeyword_data\u001b[0m\u001b[0;34m[\u001b[0m\u001b[0;34m'all'\u001b[0m\u001b[0;34m]\u001b[0m\u001b[0;34m[\u001b[0m\u001b[0;34m'total_frames_humanhuman'\u001b[0m\u001b[0;34m]\u001b[0m\u001b[0;34m/\u001b[0m\u001b[0;34m(\u001b[0m\u001b[0;36m60\u001b[0m\u001b[0;34m*\u001b[0m\u001b[0;36m60\u001b[0m\u001b[0;34m*\u001b[0m\u001b[0;36m60\u001b[0m\u001b[0;34m)\u001b[0m \u001b[0;32mfor\u001b[0m \u001b[0mep\u001b[0m \u001b[0;32min\u001b[0m \u001b[0menv\u001b[0m\u001b[0;34m.\u001b[0m\u001b[0mepisodes\u001b[0m\u001b[0;34m]\u001b[0m\u001b[0;34m)\u001b[0m \u001b[0;32mfor\u001b[0m \u001b[0menv\u001b[0m \u001b[0;32min\u001b[0m \u001b[0mall_environments\u001b[0m \u001b[0;32mif\u001b[0m \u001b[0mbase_condition\u001b[0m\u001b[0;34m(\u001b[0m\u001b[0menv\u001b[0m\u001b[0;34m)\u001b[0m \u001b[0;32mand\u001b[0m \u001b[0mcondition\u001b[0m\u001b[0;34m(\u001b[0m\u001b[0;34m'game'\u001b[0m\u001b[0;34m,\u001b[0m \u001b[0mgame\u001b[0m\u001b[0;34m)\u001b[0m\u001b[0;34m(\u001b[0m\u001b[0menv\u001b[0m\u001b[0;34m)\u001b[0m \u001b[0;32mand\u001b[0m \u001b[0mcondition\u001b[0m\u001b[0;34m(\u001b[0m\u001b[0;34m'task'\u001b[0m\u001b[0;34m,\u001b[0m \u001b[0mtask\u001b[0m\u001b[0;34m)\u001b[0m\u001b[0;34m(\u001b[0m\u001b[0menv\u001b[0m\u001b[0;34m)\u001b[0m \u001b[0;32mand\u001b[0m \u001b[0mcondition\u001b[0m\u001b[0;34m(\u001b[0m\u001b[0;34m'source'\u001b[0m\u001b[0;34m,\u001b[0m \u001b[0msource\u001b[0m\u001b[0;34m)\u001b[0m\u001b[0;34m(\u001b[0m\u001b[0menv\u001b[0m\u001b[0;34m)\u001b[0m\u001b[0;34m]\u001b[0m\u001b[0;34m)\u001b[0m\u001b[0;34m\u001b[0m\u001b[0;34m\u001b[0m\u001b[0m\n\u001b[0m\u001b[1;32m     19\u001b[0m \u001b[0;34m\u001b[0m\u001b[0m\n\u001b[1;32m     20\u001b[0m     \u001b[0;32mif\u001b[0m \u001b[0moutput\u001b[0m \u001b[0;34m==\u001b[0m \u001b[0;34m'float'\u001b[0m\u001b[0;34m:\u001b[0m\u001b[0;34m\u001b[0m\u001b[0;34m\u001b[0m\u001b[0m\n",
                        "\u001b[0;32m/var/folders/y8/_bm4phj5135_3cbz3mf5v0s40000gn/T/ipykernel_77716/886228299.py\u001b[0m in \u001b[0;36m<listcomp>\u001b[0;34m(.0)\u001b[0m\n\u001b[1;32m     16\u001b[0m \u001b[0;34m\u001b[0m\u001b[0m\n\u001b[1;32m     17\u001b[0m     \u001b[0;32melse\u001b[0m\u001b[0;34m:\u001b[0m\u001b[0;34m\u001b[0m\u001b[0;34m\u001b[0m\u001b[0m\n\u001b[0;32m---> 18\u001b[0;31m         \u001b[0ms\u001b[0m \u001b[0;34m=\u001b[0m \u001b[0msum\u001b[0m\u001b[0;34m(\u001b[0m\u001b[0;34m[\u001b[0m\u001b[0msum\u001b[0m\u001b[0;34m(\u001b[0m\u001b[0;34m[\u001b[0m\u001b[0mep\u001b[0m\u001b[0;34m.\u001b[0m\u001b[0mkeyword_data\u001b[0m\u001b[0;34m[\u001b[0m\u001b[0;34m'all'\u001b[0m\u001b[0;34m]\u001b[0m\u001b[0;34m[\u001b[0m\u001b[0;34m'total_frames_humanhuman'\u001b[0m\u001b[0;34m]\u001b[0m\u001b[0;34m/\u001b[0m\u001b[0;34m(\u001b[0m\u001b[0;36m60\u001b[0m\u001b[0;34m*\u001b[0m\u001b[0;36m60\u001b[0m\u001b[0;34m*\u001b[0m\u001b[0;36m60\u001b[0m\u001b[0;34m)\u001b[0m \u001b[0;32mfor\u001b[0m \u001b[0mep\u001b[0m \u001b[0;32min\u001b[0m \u001b[0menv\u001b[0m\u001b[0;34m.\u001b[0m\u001b[0mepisodes\u001b[0m\u001b[0;34m]\u001b[0m\u001b[0;34m)\u001b[0m \u001b[0;32mfor\u001b[0m \u001b[0menv\u001b[0m \u001b[0;32min\u001b[0m \u001b[0mall_environments\u001b[0m \u001b[0;32mif\u001b[0m \u001b[0mbase_condition\u001b[0m\u001b[0;34m(\u001b[0m\u001b[0menv\u001b[0m\u001b[0;34m)\u001b[0m \u001b[0;32mand\u001b[0m \u001b[0mcondition\u001b[0m\u001b[0;34m(\u001b[0m\u001b[0;34m'game'\u001b[0m\u001b[0;34m,\u001b[0m \u001b[0mgame\u001b[0m\u001b[0;34m)\u001b[0m\u001b[0;34m(\u001b[0m\u001b[0menv\u001b[0m\u001b[0;34m)\u001b[0m \u001b[0;32mand\u001b[0m \u001b[0mcondition\u001b[0m\u001b[0;34m(\u001b[0m\u001b[0;34m'task'\u001b[0m\u001b[0;34m,\u001b[0m \u001b[0mtask\u001b[0m\u001b[0;34m)\u001b[0m\u001b[0;34m(\u001b[0m\u001b[0menv\u001b[0m\u001b[0;34m)\u001b[0m \u001b[0;32mand\u001b[0m \u001b[0mcondition\u001b[0m\u001b[0;34m(\u001b[0m\u001b[0;34m'source'\u001b[0m\u001b[0;34m,\u001b[0m \u001b[0msource\u001b[0m\u001b[0;34m)\u001b[0m\u001b[0;34m(\u001b[0m\u001b[0menv\u001b[0m\u001b[0;34m)\u001b[0m\u001b[0;34m]\u001b[0m\u001b[0;34m)\u001b[0m\u001b[0;34m\u001b[0m\u001b[0;34m\u001b[0m\u001b[0m\n\u001b[0m\u001b[1;32m     19\u001b[0m \u001b[0;34m\u001b[0m\u001b[0m\n\u001b[1;32m     20\u001b[0m     \u001b[0;32mif\u001b[0m \u001b[0moutput\u001b[0m \u001b[0;34m==\u001b[0m \u001b[0;34m'float'\u001b[0m\u001b[0;34m:\u001b[0m\u001b[0;34m\u001b[0m\u001b[0;34m\u001b[0m\u001b[0m\n",
                        "\u001b[0;31mKeyError\u001b[0m: 'total_frames_humanhuman'"
                    ]
                }
            ],
            "source": [
                "def get_total_time_by_variant(game=None, task=None, source=None, output = 'str'):\n",
                "    \n",
                "    base_condition = lambda x: 'all' in x.keyword_data and 'game' in x.keyword_data['all'] and 'task' in x.keyword_data['all'] and 'source' in x.keyword_data['all']\n",
                "    def condition(name, var):\n",
                "        if isinstance(var, str):\n",
                "            return lambda x: x.keyword_data['all'][name]==var\n",
                "        elif isinstance(var,list) or isinstance(var,tuple):\n",
                "            return lambda x: x.keyword_data['all'][name] in var\n",
                "        else:\n",
                "            return lambda x: True\n",
                "    if game != 'space_invaders_2p' and game !='space_invaders_ai':\n",
                "        s = sum([env.keyword_data[P1]['Time played']/timedelta(hours=1) for env in all_environments if base_condition(env) and condition('game', game)(env) and condition('task', task)(env) and condition('source', source)(env)])\n",
                "    elif game == 'space_invaders_ai':\n",
                "        s = sum([env.keyword_data[P1]['Time played']/timedelta(hours=1) for env in all_environments if base_condition(env) and condition('game', game)(env) and condition('task', task)(env) and condition('source', source)(env)])\n",
                "        s += sum([sum([ep.keyword_data['all']['total_frames_humanai']/(60*60*60) for ep in env.episodes]) for env in all_environments if base_condition(env) and condition('game', 'space_invaders_2p')(env) and condition('task', task)(env) and condition('source', source)(env)])\n",
                "    \n",
                "    else: \n",
                "        s = sum([sum([ep.keyword_data['all']['total_frames_humanhuman']/(60*60*60) for ep in env.episodes]) for env in all_environments if base_condition(env) and condition('game', game)(env) and condition('task', task)(env) and condition('source', source)(env)])\n",
                "    \n",
                "    if output == 'float':\n",
                "        return s\n",
                "    if s > 0:\n",
                "        return f\"{s:.2f}\"\n",
                "    return '-'\n",
                "\n",
                "for g in sorted(all_games):\n",
                "    print(f\"\\\\textbf{{{nice_task_names[g]}}} & \\\\textbf{{{get_total_time_by_variant(game=g, source='mturk')}}} & \\\\textbf{{{get_total_time_by_variant(game=g, source='socialmedia')}}} & \\\\textbf{{{get_total_time_by_variant(game=g, source='email')}}} & \\\\textbf{{{get_total_time_by_variant(game=g)}}} \\\\\\\\\")\n",
                "    n = 0\n",
                "    for t in all_tasks_sorted:\n",
                "        if get_total_time_by_variant(game=g, task=t, output='float') > 0:\n",
                "            n += 1\n",
                "    if n > 1:\n",
                "        for t in all_tasks_sorted:\n",
                "            if get_total_time_by_variant(game=g, task=t, output='float') > 0:\n",
                "                print(f\"    - {t.replace('_', ' ')} & {get_total_time_by_variant(game=g, task=t, source='mturk')} & {get_total_time_by_variant(game=g, task=t, source='socialmedia')} & {get_total_time_by_variant(game=g, task=t, source='email')} & {get_total_time_by_variant(game=g, task=t)} \\\\\\\\\")\n",
                "print(\"\\\\\\\\ \\hline \\\\\\\\\")\n",
                "print(f\"\\\\textbf{{Total}} & \\\\textbf{{{get_total_time_by_variant(source='mturk')}}} & \\\\textbf{{{get_total_time_by_variant(source='socialmedia')}}} & \\\\textbf{{{get_total_time_by_variant(source='email')}}} & \\\\textbf{{{get_total_time_by_variant()} }}\\\\\\\\\")\n"
            ]
        },
        {
            "cell_type": "code",
            "execution_count": 23,
            "metadata": {},
            "outputs": [
                {
                    "name": "stdout",
                    "output_type": "stream",
                    "text": [
                        "\\textbf{Beamrider} & \\textbf{7.90} & \\textbf{-} & \\textbf{-} & \\textbf{7.90} \\\\\n",
                        "\\textbf{Breakout} & \\textbf{11.45} & \\textbf{-} & \\textbf{-} & \\textbf{11.45} \\\\\n",
                        "\\textbf{Montezuma's Revenge} & \\textbf{16.70} & \\textbf{3.75} & \\textbf{5.19} & \\textbf{25.65} \\\\\n",
                        "\\textbf{Q*Bert} & \\textbf{6.97} & \\textbf{2.90} & \\textbf{-} & \\textbf{9.87} \\\\\n",
                        "\\textbf{Riverraid} & \\textbf{17.64} & \\textbf{4.47} & \\textbf{3.10} & \\textbf{25.20} \\\\\n",
                        "    - of which multimodal & 12.29 & 0.69 & 1.10 & 14.08 \\\\\n",
                        "\\textbf{Space Invaders} & \\textbf{297.69} & \\textbf{18.34} & \\textbf{7.10} & \\textbf{323.13} \\\\\n",
                        "    - of which incentives & 183.01 & 0.00 & 0.00 & 183.01 \\\\\n",
                        "    - of which multimodal & 101.46 & 0.52 & 1.12 & 103.09 \\\\\n",
                        "\\textbf{Space Invaders (2P)} & \\textbf{6.35} & \\textbf{0.38} & \\textbf{0.81} & \\textbf{7.54} \\\\\n",
                        "\\textbf{Space Invaders (2P w/AI)} & \\textbf{54.98} & \\textbf{2.54} & \\textbf{1.41} & \\textbf{58.93} \\\\\n",
                        "\\\\ \\hline \\\\\n",
                        "\\textbf{Total} & \\textbf{419.67} & \\textbf{32.38} & \\textbf{17.60} & \\textbf{469.66 }\\\\\n"
                    ]
                }
            ],
            "source": [
                "task_groups = {\n",
                "    'left': 'multimodal',\n",
                "    'right': 'multimodal',\n",
                "    'insideout': 'multimodal',\n",
                "    'outsidein': 'multimodal',\n",
                "    'rowbyrow': 'multimodal',\n",
                "    'insideout_incentives': 'incentives',\n",
                "}\n",
                "for g in sorted(all_games):\n",
                "    print(f\"\\\\textbf{{{nice_task_names[g]}}} & \\\\textbf{{{get_total_time_by_variant(game=g, source='mturk')}}} & \\\\textbf{{{get_total_time_by_variant(game=g, source='socialmedia')}}} & \\\\textbf{{{get_total_time_by_variant(game=g, source='email')}}} & \\\\textbf{{{get_total_time_by_variant(game=g)}}} \\\\\\\\\")\n",
                "    n = 0\n",
                "    for t in sorted(all_tasks_kw):\n",
                "        if get_total_time_by_variant(game=g, task=t, output='float') > 0 and t in task_groups:\n",
                "            n += 1\n",
                "    if n > 1:\n",
                "        for t in set(task_groups.values()):\n",
                "            if sum([get_total_time_by_variant(game=g, task=q, output='float') for q in task_groups.keys() if task_groups[q]==t]) > 0 :\n",
                "                print(f\"    - of which {t.replace('_', ' ')} & {sum([get_total_time_by_variant(game=g, task=q, source='mturk', output='float') for q in task_groups.keys() if task_groups[q]==t]):.2f} & {sum([get_total_time_by_variant(game=g, task=q, source='socialmedia', output='float') for q in task_groups.keys() if task_groups[q]==t]):.2f} & {sum([get_total_time_by_variant(game=g, task=q, source='email', output='float') for q in task_groups.keys() if task_groups[q]==t]):.2f} & {sum([get_total_time_by_variant(game=g, task=q, output='float') for q in task_groups.keys() if task_groups[q]==t]):.2f} \\\\\\\\\")\n",
                "print(\"\\\\\\\\ \\hline \\\\\\\\\")\n",
                "print(f\"\\\\textbf{{Total}} & \\\\textbf{{{get_total_time_by_variant(source='mturk')}}} & \\\\textbf{{{get_total_time_by_variant(source='socialmedia')}}} & \\\\textbf{{{get_total_time_by_variant(source='email')}}} & \\\\textbf{{{get_total_time_by_variant()} }}\\\\\\\\\")\n"
            ]
        },
        {
            "cell_type": "code",
            "execution_count": 6,
            "metadata": {},
            "outputs": [
                {
                    "name": "stdout",
                    "output_type": "stream",
                    "text": [
                        "Total number of unique visitors 1249\n"
                    ]
                }
            ],
            "source": [
                "total_users = len({user.permanent_user_id for user in all_users})\n",
                "print(f\"Total number of unique visitors {total_users}\")"
            ]
        },
        {
            "cell_type": "markdown",
            "metadata": {},
            "source": [
                "## Data collected over time\n",
                "\n",
                "Not part of the paper: This shows the amount of data collected each day, and also each weekday (no clear trend there)."
            ]
        },
        {
            "cell_type": "code",
            "execution_count": 30,
            "metadata": {},
            "outputs": [
                {
                    "data": {
                        "image/png": "[encoded data removed]",
                        "text/plain": [
                            "<Figure size 432x288 with 1 Axes>"
                        ]
                    },
                    "metadata": {},
                    "output_type": "display_data"
                },
                {
                    "data": {
                        "image/png": "[encoded data removed]",
                        "text/plain": [
                            "<Figure size 432x288 with 1 Axes>"
                        ]
                    },
                    "metadata": {},
                    "output_type": "display_data"
                }
            ],
            "source": [
                "# Show data collected per day\n",
                "\n",
                "dates = {}\n",
                "for ep in all_episodes:\n",
                "    if ep.keyword_data['all']['created_on'].date() not in dates:\n",
                "        dates[ep.keyword_data['all']['created_on'].date()] = ep.keyword_data[P1]['Time played'].total_seconds() / 3600\n",
                "    else:\n",
                "        dates[ep.keyword_data['all']['created_on'].date()] += ep.keyword_data[P1]['Time played'].total_seconds() / 3600\n",
                "\n",
                "plot = sns.lineplot(x=dates.keys(), y=dates.values(),  ci=95, )\n",
                "# plot.set_yscale(\"log\")\n",
                "plt.xticks(rotation=90)\n",
                "plt.show()\n",
                "plt.close()\n",
                "\n",
                "# Show data collected per day of week\n",
                "\n",
                "weekdays = []\n",
                "data_per_weekday = []\n",
                "for d in dates:\n",
                "    weekdays.append(d.weekday())\n",
                "    data_per_weekday.append(dates[d])\n",
                "\n",
                "plot = sns.lineplot(x=weekdays, y=data_per_weekday,  ci=95, )\n",
                "# plot.set_yscale(\"log\")\n",
                "plt.xticks(rotation=90)\n",
                "plt.show()\n",
                "plt.close()"
            ]
        }
    ],
    "metadata": {
        "interpreter": {
            "hash": "9698747dd09aabf938a31c6362490d9a56cb23faa2605cd8a4116863ae537c63"
        },
        "kernelspec": {
            "display_name": "Python 3.7.7 64-bit ('atari-crowdsourcing-test': pyenv)",
            "name": "python3"
        },
        "language_info": {
            "codemirror_mode": {
                "name": "ipython",
                "version": 3
            },
            "file_extension": ".py",
            "mimetype": "text/x-python",
            "name": "python",
            "nbconvert_exporter": "python",
            "pygments_lexer": "ipython3",
            "version": "3.7.7"
        },
        "orig_nbformat": 4
    },
    "nbformat": 4,
    "nbformat_minor": 2
}