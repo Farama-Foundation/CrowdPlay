{
    "cells": [
        {
            "cell_type": "markdown",
            "metadata": {},
            "source": [
                "# Latency analysis of the dataset\n",
                "\n",
                "This shows mean and median latencies across the dataset. These need to first be calculated using batch_create_metadata.py "
            ]
        },
        {
            "cell_type": "code",
            "execution_count": 1,
            "metadata": {},
            "outputs": [],
            "source": [
                "import numpy as np\n",
                "import matplotlib.pyplot as plt\n",
                "import pandas\n",
                "import os\n",
                "import math\n",
                "import seaborn as sns\n",
                "from datetime import datetime, timedelta\n",
                "sns.set()\n",
                "\n",
                "from crowdplay_datasets.dataset import get_trajectory_by_id, get_engine_and_session, EpisodeModel, UserModel, EnvironmentModel, EnvironmentKeywordDataModel, EpisodeKeywordDataModel\n",
                "_, session = get_engine_and_session(\"crowdplay_atari-v0\")\n",
                "\n",
                "P1 = 'game_0>player_0'"
            ]
        },
        {
            "cell_type": "code",
            "execution_count": 2,
            "metadata": {},
            "outputs": [],
            "source": [
                "\n",
                "all_episodes = session.query(EpisodeModel).all()"
            ]
        },
        {
            "cell_type": "code",
            "execution_count": 10,
            "metadata": {},
            "outputs": [
                {
                    "name": "stdout",
                    "output_type": "stream",
                    "text": [
                        "Average latency across all episodes: 13.826000141751413\n",
                        "Average episode mean: 20.18709037211832\n",
                        "Average episode median: 18.718164188752425\n",
                        "median: 7.0\n",
                        "Median episode mean: 7.689089881288863\n",
                        "Median episode median: 7.0\n",
                        "Maximum latency: 3801\n",
                        "Maximum episode latency: 1935.4\n",
                        "Number of latencies >1s: 61189\n",
                        "Number of episodes with avg latency >1s: 677\n"
                    ]
                }
            ],
            "source": [
                "import statistics\n",
                "latencies = []\n",
                "episode_latencies = []\n",
                "episode_medians = []\n",
                "\n",
                "for episode in all_episodes:\n",
                "    if 'all' in episode.keyword_data and 'latencies' in episode.keyword_data['all'] and len(episode.keyword_data['all']['latencies'])>0 :\n",
                "        latencies += episode.keyword_data['all']['latencies']\n",
                "        episode_latencies.append(statistics.mean(episode.keyword_data['all']['latencies']))\n",
                "        episode_medians.append(statistics.median(episode.keyword_data['all']['latencies']))\n",
                "\n",
                "\n",
                "# Filter?\n",
                "# latencies = [x for x in latencies if x<30]\n",
                "# episode_latencies = [x for x in episode_latencies if x<30]\n",
                "\n",
                "print(f\"Average latency across all episodes: {statistics.mean(latencies)}\")\n",
                "print(f\"Average episode mean: {statistics.mean(episode_latencies)}\")\n",
                "print(f\"Average episode median: {statistics.mean(episode_medians)}\")\n",
                "\n",
                "\n",
                "print(f\"median: {statistics.median(latencies)}\")\n",
                "print(f\"Median episode mean: {statistics.median(episode_latencies)}\")\n",
                "print(f\"Median episode median: {statistics.median(episode_medians)}\")\n",
                "# print(f\"quantiles: {statistics.quantiles(latencies)}\")\n",
                "\n",
                "print(f\"Maximum latency: {max(latencies)}\")\n",
                "print(f\"Maximum episode latency: {max(episode_latencies)}\")\n",
                "\n",
                "print(f\"Number of latencies >1s: {len([x for x in latencies if x>60])}\")\n",
                "print(f\"Number of episodes with avg latency >1s: {len([x for x in episode_latencies if x>60])}\")"
            ]
        },
        {
            "cell_type": "code",
            "execution_count": 15,
            "metadata": {},
            "outputs": [
                {
                    "data": {
                        "image/png": "[encoded data removed]",
                        "text/plain": [
                            "<Figure size 432x288 with 1 Axes>"
                        ]
                    },
                    "metadata": {},
                    "output_type": "display_data"
                }
            ],
            "source": [
                "plot = sns.histplot(data=episode_latencies, kde=True)\n",
                "plt.xlim(0,100)\n",
                "plt.show()"
            ]
        },
        {
            "cell_type": "code",
            "execution_count": 16,
            "metadata": {},
            "outputs": [
                {
                    "data": {
                        "image/png": "[encoded data removed]",
                        "text/plain": [
                            "<Figure size 432x288 with 1 Axes>"
                        ]
                    },
                    "metadata": {},
                    "output_type": "display_data"
                }
            ],
            "source": [
                "plot = sns.histplot(data=latencies, kde=True)\n",
                "plt.xlim(0,100)\n",
                "plt.show()"
            ]
        },
        {
            "cell_type": "code",
            "execution_count": null,
            "metadata": {},
            "outputs": [],
            "source": []
        }
    ],
    "metadata": {
        "interpreter": {
            "hash": "9698747dd09aabf938a31c6362490d9a56cb23faa2605cd8a4116863ae537c63"
        },
        "kernelspec": {
            "display_name": "Python 3.7.7 64-bit ('atari-crowdsourcing-test': pyenv)",
            "name": "python3"
        },
        "language_info": {
            "codemirror_mode": {
                "name": "ipython",
                "version": 3
            },
            "file_extension": ".py",
            "mimetype": "text/x-python",
            "name": "python",
            "nbconvert_exporter": "python",
            "pygments_lexer": "ipython3",
            "version": "3.7.7"
        },
        "orig_nbformat": 4
    },
    "nbformat": 4,
    "nbformat_minor": 2
}