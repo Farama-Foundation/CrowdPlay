{
    "cells": [
        {
            "cell_type": "code",
            "execution_count": 40,
            "metadata": {},
            "outputs": [],
            "source": [
                "# We first import all necessary libraries, the dataset itself, and start a DB session.\n",
                "\n",
                "from datetime import datetime, timedelta\n",
                "\n",
                "from crowdplay_datasets.dataset import get_trajectory_by_id, get_engine_and_session, EpisodeModel, UserModel, EnvironmentModel, EnvironmentKeywordDataModel, EpisodeKeywordDataModel\n",
                "\n",
                "_, session = get_engine_and_session(\"crowdplay_atari-v0\")\n",
                "\n",
                "# Shorthand for the agent key of the first agent in any of our environments.\n",
                "P0 = 'game_0>player_0'"
            ]
        },
        {
            "cell_type": "code",
            "execution_count": 41,
            "metadata": {},
            "outputs": [],
            "source": [
                "# Next, we load all the episodes, users and environments, for further filtering in Python.\n",
                "# This will take around 10-15 seconds.\n",
                "all_episodes = session.query(EpisodeModel).all()\n",
                "all_users = session.query(UserModel).all()\n",
                "all_environments = session.query(EnvironmentModel).all()"
            ]
        },
        {
            "cell_type": "code",
            "execution_count": 42,
            "metadata": {},
            "outputs": [
                {
                    "name": "stdout",
                    "output_type": "stream",
                    "text": [
                        "<Episode(episode_id=07e25c0f367744e6b5b496d64f2ff203, environment_id=00173bf930574f68967423935093b494, kwdata={'all': {'created_on': datetime.datetime(2021, 10, 2, 13, 49, 31)}, 'game_0>player_0': {'Active playtime': datetime.timedelta(seconds=55), 'Correct aliens shot (fraction)': 0.4, 'Correct aliens shot (total)': 6, 'Score': 190, 'Time played': datetime.timedelta(seconds=55)}}>\n"
                    ]
                }
            ],
            "source": [
                "# Let's examine what an episode looks like!\n",
                "ep = all_episodes[0]\n",
                "print(ep)\n",
                "\n",
                "# We see that the episode has a unique ID, it is referencing an environment also with a unique ID, \n",
                "# and it has a nested dictionary of key-value metadata for the episode as a whole and for each player."
            ]
        },
        {
            "cell_type": "code",
            "execution_count": 43,
            "metadata": {},
            "outputs": [
                {
                    "name": "stdout",
                    "output_type": "stream",
                    "text": [
                        "{'prev_obs': {'game_0>player_0': OrderedDict([('image', array([[[ 0,  0,  0],\n",
                        "        [ 0,  0,  0],\n",
                        "        [ 0,  0,  0],\n",
                        "        ...,\n",
                        "        [ 0,  0,  0],\n",
                        "        [ 0,  0,  0],\n",
                        "        [ 0,  0,  0]],\n",
                        "\n",
                        "       [[ 0,  0,  0],\n",
                        "        [ 0,  0,  0],\n",
                        "        [ 0,  0,  0],\n",
                        "        ...,\n",
                        "        [ 0,  0,  0],\n",
                        "        [ 0,  0,  0],\n",
                        "        [ 0,  0,  0]],\n",
                        "\n",
                        "       [[ 0,  0,  0],\n",
                        "        [ 0,  0,  0],\n",
                        "        [ 0,  0,  0],\n",
                        "        ...,\n",
                        "        [ 0,  0,  0],\n",
                        "        [ 0,  0,  0],\n",
                        "        [ 0,  0,  0]],\n",
                        "\n",
                        "       ...,\n",
                        "\n",
                        "       [[80, 89, 22],\n",
                        "        [80, 89, 22],\n",
                        "        [80, 89, 22],\n",
                        "        ...,\n",
                        "        [80, 89, 22],\n",
                        "        [80, 89, 22],\n",
                        "        [80, 89, 22]],\n",
                        "\n",
                        "       [[80, 89, 22],\n",
                        "        [80, 89, 22],\n",
                        "        [80, 89, 22],\n",
                        "        ...,\n",
                        "        [80, 89, 22],\n",
                        "        [80, 89, 22],\n",
                        "        [80, 89, 22]],\n",
                        "\n",
                        "       [[80, 89, 22],\n",
                        "        [80, 89, 22],\n",
                        "        [80, 89, 22],\n",
                        "        ...,\n",
                        "        [80, 89, 22],\n",
                        "        [80, 89, 22],\n",
                        "        [80, 89, 22]]], dtype=uint8))])}, 'action': {'game_0>player_0': {'game': 0}}, 'action_step_iter': {'game_0>player_0': 0}, 'reward': {'game_0>player_0': 0}, 'done': {'game_0>player_0': False, '__all__': False}, 'info': {'game_0>player_0': {'ale.lives': 2, 'RAM': [0, 128, 0, 68, 241, 162, 34, 183, 68, 13, 124, 255, 255, 50, 255, 255, 0, 36, 63, 63, 63, 63, 63, 63, 82, 0, 23, 43, 35, 117, 180, 0, 36, 63, 63, 63, 63, 63, 63, 110, 0, 23, 1, 60, 126, 126, 126, 126, 255, 255, 255, 195, 60, 126, 126, 126, 126, 255, 255, 255, 195, 60, 126, 126, 126, 126, 255, 255, 255, 195, 0, 0, 112, 3, 126, 0, 0, 0, 0, 0, 0, 246, 246, 63, 63, 246, 246, 63, 63, 0, 194, 24, 0, 52, 82, 196, 246, 20, 7, 0, 226, 0, 0, 0, 0, 0, 194, 63, 0, 1, 255, 0, 180, 0, 189, 0, 0, 0, 0, 0, 99, 255, 0, 0, 235, 254, 192, 242]}}, 'step_iter': 1, 'user_type': {'game_0>player_0': 1}, 'task_callables': {'Score': {'game_0>player_0': 260}, 'Correct aliens shot (total)': {'game_0>player_0': 5}, 'Correct aliens shot (fraction)': {'game_0>player_0': 0.2777777777777778}, 'Time played': {'game_0>player_0': datetime.timedelta(seconds=52)}, 'Active playtime': {'game_0>player_0': datetime.timedelta(seconds=52)}}, 'episode_callables': {'Score': {'game_0>player_0': 0}, 'Correct aliens shot (total)': {'game_0>player_0': 0}, 'Correct aliens shot (fraction)': {'game_0>player_0': 0}, 'Time played': {'game_0>player_0': datetime.timedelta(0)}, 'Active playtime': {'game_0>player_0': datetime.timedelta(0)}}}\n"
                    ]
                }
            ],
            "source": [
                "# We can also get the trajectory for this episode. \n",
                "# Let's first look at the raw data.\n",
                "\n",
                "trajectory = ep.get_raw_trajectory()\n",
                "print(trajectory[0])\n",
                "\n",
                "# We see that each step in the trajectory contains the observation for all agents, the actions, and a lot of metadata."
            ]
        },
        {
            "cell_type": "code",
            "execution_count": 44,
            "metadata": {},
            "outputs": [
                {
                    "name": "stdout",
                    "output_type": "stream",
                    "text": [
                        "[array([[[ 0,  0,  0,  0],\n",
                        "        [ 0,  0,  0,  0],\n",
                        "        [ 0,  0,  0,  0],\n",
                        "        ...,\n",
                        "        [ 0,  0,  0,  0],\n",
                        "        [ 0,  0,  0,  0],\n",
                        "        [ 0,  0,  0,  0]],\n",
                        "\n",
                        "       [[ 0,  0,  0,  0],\n",
                        "        [ 0,  0,  0,  0],\n",
                        "        [ 0,  0,  0,  0],\n",
                        "        ...,\n",
                        "        [ 0,  0,  0,  0],\n",
                        "        [ 0,  0,  0,  0],\n",
                        "        [ 0,  0,  0,  0]],\n",
                        "\n",
                        "       [[ 0,  0,  0,  0],\n",
                        "        [ 0,  0,  0,  0],\n",
                        "        [ 0,  0,  0,  0],\n",
                        "        ...,\n",
                        "        [ 0,  0,  0,  0],\n",
                        "        [ 0,  0,  0,  0],\n",
                        "        [ 0,  0,  0,  0]],\n",
                        "\n",
                        "       ...,\n",
                        "\n",
                        "       [[ 0,  0,  0, 79],\n",
                        "        [ 0,  0,  0, 79],\n",
                        "        [ 0,  0,  0, 79],\n",
                        "        ...,\n",
                        "        [ 0,  0,  0, 79],\n",
                        "        [ 0,  0,  0, 79],\n",
                        "        [ 0,  0,  0, 79]],\n",
                        "\n",
                        "       [[ 0,  0,  0, 79],\n",
                        "        [ 0,  0,  0, 79],\n",
                        "        [ 0,  0,  0, 79],\n",
                        "        ...,\n",
                        "        [ 0,  0,  0, 79],\n",
                        "        [ 0,  0,  0, 79],\n",
                        "        [ 0,  0,  0, 79]],\n",
                        "\n",
                        "       [[ 0,  0,  0, 79],\n",
                        "        [ 0,  0,  0, 79],\n",
                        "        [ 0,  0,  0, 79],\n",
                        "        ...,\n",
                        "        [ 0,  0,  0, 79],\n",
                        "        [ 0,  0,  0, 79],\n",
                        "        [ 0,  0,  0, 79]]], dtype=uint8), array([[[ 0,  0,  0,  0],\n",
                        "        [ 0,  0,  0,  0],\n",
                        "        [ 0,  0,  0,  0],\n",
                        "        ...,\n",
                        "        [ 0,  0,  0,  0],\n",
                        "        [ 0,  0,  0,  0],\n",
                        "        [ 0,  0,  0,  0]],\n",
                        "\n",
                        "       [[ 0,  0,  0,  0],\n",
                        "        [ 0,  0,  0,  0],\n",
                        "        [ 0,  0,  0,  0],\n",
                        "        ...,\n",
                        "        [ 0,  0,  0,  0],\n",
                        "        [ 0,  0,  0,  0],\n",
                        "        [ 0,  0,  0,  0]],\n",
                        "\n",
                        "       [[ 0,  0,  0,  0],\n",
                        "        [ 0,  0,  0,  0],\n",
                        "        [ 0,  0,  0,  0],\n",
                        "        ...,\n",
                        "        [ 0,  0,  0,  0],\n",
                        "        [ 0,  0,  0,  0],\n",
                        "        [ 0,  0,  0,  0]],\n",
                        "\n",
                        "       ...,\n",
                        "\n",
                        "       [[ 0,  0,  0, 79],\n",
                        "        [ 0,  0,  0, 79],\n",
                        "        [ 0,  0,  0, 79],\n",
                        "        ...,\n",
                        "        [ 0,  0,  0, 79],\n",
                        "        [ 0,  0,  0, 79],\n",
                        "        [ 0,  0,  0, 79]],\n",
                        "\n",
                        "       [[ 0,  0,  0, 79],\n",
                        "        [ 0,  0,  0, 79],\n",
                        "        [ 0,  0,  0, 79],\n",
                        "        ...,\n",
                        "        [ 0,  0,  0, 79],\n",
                        "        [ 0,  0,  0, 79],\n",
                        "        [ 0,  0,  0, 79]],\n",
                        "\n",
                        "       [[ 0,  0,  0, 79],\n",
                        "        [ 0,  0,  0, 79],\n",
                        "        [ 0,  0,  0, 79],\n",
                        "        ...,\n",
                        "        [ 0,  0,  0, 79],\n",
                        "        [ 0,  0,  0, 79],\n",
                        "        [ 0,  0,  0, 79]]], dtype=uint8), array([[[ 0,  0,  0,  0],\n",
                        "        [ 0,  0,  0,  0],\n",
                        "        [ 0,  0,  0,  0],\n",
                        "        ...,\n",
                        "        [ 0,  0,  0,  0],\n",
                        "        [ 0,  0,  0,  0],\n",
                        "        [ 0,  0,  0,  0]],\n",
                        "\n",
                        "       [[ 0,  0,  0,  0],\n",
                        "        [ 0,  0,  0,  0],\n",
                        "        [ 0,  0,  0,  0],\n",
                        "        ...,\n",
                        "        [ 0,  0,  0,  0],\n",
                        "        [ 0,  0,  0,  0],\n",
                        "        [ 0,  0,  0,  0]],\n",
                        "\n",
                        "       [[ 0,  0,  0,  0],\n",
                        "        [ 0,  0,  0,  0],\n",
                        "        [ 0,  0,  0,  0],\n",
                        "        ...,\n",
                        "        [ 0,  0,  0,  0],\n",
                        "        [ 0,  0,  0,  0],\n",
                        "        [ 0,  0,  0,  0]],\n",
                        "\n",
                        "       ...,\n",
                        "\n",
                        "       [[ 0,  0,  0, 79],\n",
                        "        [ 0,  0,  0, 79],\n",
                        "        [ 0,  0,  0, 79],\n",
                        "        ...,\n",
                        "        [ 0,  0,  0, 79],\n",
                        "        [ 0,  0,  0, 79],\n",
                        "        [ 0,  0,  0, 79]],\n",
                        "\n",
                        "       [[ 0,  0,  0, 79],\n",
                        "        [ 0,  0,  0, 79],\n",
                        "        [ 0,  0,  0, 79],\n",
                        "        ...,\n",
                        "        [ 0,  0,  0, 79],\n",
                        "        [ 0,  0,  0, 79],\n",
                        "        [ 0,  0,  0, 79]],\n",
                        "\n",
                        "       [[ 0,  0,  0, 79],\n",
                        "        [ 0,  0,  0, 79],\n",
                        "        [ 0,  0,  0, 79],\n",
                        "        ...,\n",
                        "        [ 0,  0,  0, 79],\n",
                        "        [ 0,  0,  0, 79],\n",
                        "        [ 0,  0,  0, 79]]], dtype=uint8)]\n",
                        "[0, 0, 0]\n"
                    ]
                }
            ],
            "source": [
                "# For downstream offline learning pipelines we might not want all of this data.\n",
                "# And we might prefer the observations to be in a preprocessed form as they would come in a deepmind-wrapped Gym Atari environment.\n",
                "# The episode object provides a method for that too!\n",
                "# We can get the trajectory as a list of preprocessed observations and a separate list of actions. \n",
                "\n",
                "processed_trajectory = ep.get_processed_trajectory()\n",
                "print(processed_trajectory[0][:3])\n",
                "print(processed_trajectory[1][:3])\n"
            ]
        },
        {
            "cell_type": "code",
            "execution_count": 45,
            "metadata": {},
            "outputs": [
                {
                    "name": "stdout",
                    "output_type": "stream",
                    "text": [
                        "{'all': {'created_on': datetime.datetime(2021, 10, 2, 13, 49, 31)}, 'game_0>player_0': {'Active playtime': datetime.timedelta(seconds=55), 'Correct aliens shot (fraction)': 0.4, 'Correct aliens shot (total)': 6, 'Score': 190, 'Time played': datetime.timedelta(seconds=55)}}\n"
                    ]
                }
            ],
            "source": [
                "# Let now look at how we can filter episodes.\n",
                "# There are two ways to filter. One: Directly in Python e.g. using list comprehension.\n",
                "# We can access metadata using each episode's episode.keyword_data object, and similarly for environments.\n",
                "\n",
                "ep = all_episodes[0]\n",
                "print(ep.keyword_data)\n",
                "\n",
                "# Note that because our engine is multi-agent ready, most of the keyword data is first keyed by the agent it pertains to."
            ]
        },
        {
            "cell_type": "code",
            "execution_count": 46,
            "metadata": {},
            "outputs": [
                {
                    "name": "stdout",
                    "output_type": "stream",
                    "text": [
                        "[<Episode(episode_id=f90d6d705e8349dda975aa175afec5d7, environment_id=14901d8be15c4b3eac287276623ee61e, kwdata={'all': {'created_on': datetime.datetime(2021, 9, 23, 20, 3, 11)}, 'game_0>player_0': {'Score': 11700, 'Time played': datetime.timedelta(seconds=104)}}>, <Episode(episode_id=62a2fef98980454b843a61f18fa9395d, environment_id=24eed462d248499790b2b0549b92c8c1, kwdata={'all': {'created_on': datetime.datetime(2021, 9, 24, 9, 18, 22)}, 'game_0>player_0': {'Score': 14500, 'Time played': datetime.timedelta(seconds=119)}}>, <Episode(episode_id=a8b3e43f96564a088b21b47453db06b3, environment_id=2a5882866f9f454590145cca0a2379bf, kwdata={'all': {'created_on': datetime.datetime(2021, 9, 23, 14, 18, 28)}, 'game_0>player_0': {'Score': 11400, 'Time played': datetime.timedelta(seconds=88)}}>, <Episode(episode_id=8035fd7aa45240c9bbaa7998834dcec2, environment_id=6050cbfdd6fe4f229b9d8a1f796f548c, kwdata={'all': {'created_on': datetime.datetime(2021, 10, 4, 14, 39, 29)}, 'game_0>player_0': {'Active playtime': datetime.timedelta(seconds=127), 'Score': 14950, 'Time played': datetime.timedelta(seconds=127)}}>, <Episode(episode_id=03668a6058774dc4a6dfdbd3dc7b5dd9, environment_id=632fd16196a04e51a2d706f17de3072c, kwdata={'all': {'created_on': datetime.datetime(2021, 10, 4, 16, 27, 7)}, 'game_0>player_0': {'Active playtime': datetime.timedelta(seconds=104), 'Score': 12000, 'Time played': datetime.timedelta(seconds=104)}}>, <Episode(episode_id=010f5e6522024eef9c8b4c3cc24e527c, environment_id=74c5f9d7707b4932a19a665916bce012, kwdata={'all': {'created_on': datetime.datetime(2021, 10, 4, 15, 39, 55)}, 'game_0>player_0': {'Active playtime': datetime.timedelta(seconds=81), 'Score': 11225, 'Time played': datetime.timedelta(seconds=81)}}>, <Episode(episode_id=0eb49dd0235944a286728430893a61b8, environment_id=74c5f9d7707b4932a19a665916bce012, kwdata={'all': {'created_on': datetime.datetime(2021, 10, 4, 15, 38, 15)}, 'game_0>player_0': {'Active playtime': datetime.timedelta(seconds=96), 'Score': 14600, 'Time played': datetime.timedelta(seconds=96)}}>, <Episode(episode_id=4a0a1556855845f4a8023b0e656d9b64, environment_id=74c5f9d7707b4932a19a665916bce012, kwdata={'all': {'created_on': datetime.datetime(2021, 10, 4, 15, 36, 24)}, 'game_0>player_0': {'Active playtime': datetime.timedelta(seconds=107), 'Score': 14650, 'Time played': datetime.timedelta(seconds=108)}}>, <Episode(episode_id=f639b13801b649a489aa0cf250b41237, environment_id=74c5f9d7707b4932a19a665916bce012, kwdata={'all': {'created_on': datetime.datetime(2021, 10, 4, 15, 34, 37)}, 'game_0>player_0': {'Active playtime': datetime.timedelta(seconds=103), 'Score': 11650, 'Time played': datetime.timedelta(seconds=103)}}>, <Episode(episode_id=a3855b57ff0f49d89826f1f1645284b7, environment_id=8f30c51c76bf414194260a27b143b09a, kwdata={'all': {'created_on': datetime.datetime(2021, 9, 23, 22, 31, 18)}, 'game_0>player_0': {'Score': 30525, 'Time played': datetime.timedelta(seconds=294)}}>, <Episode(episode_id=766f437242a04af2aeb743aed0d12127, environment_id=a93f26c866ac4f8589cff0c2ca7d5e75, kwdata={'all': {'created_on': datetime.datetime(2021, 9, 24, 0, 15, 49)}, 'game_0>player_0': {'Score': 18675, 'Time played': datetime.timedelta(seconds=161)}}>, <Episode(episode_id=98951791b42d426a8a266d254963e06e, environment_id=bc75d7f3933f4b83b87fa282a26c716f, kwdata={'all': {'created_on': datetime.datetime(2021, 9, 24, 0, 8, 21)}, 'game_0>player_0': {'Score': 14550, 'Time played': datetime.timedelta(seconds=123)}}>, <Episode(episode_id=778d69219e6c41729ec57678ba7ecc90, environment_id=c22a991463f944548f34afb9915dccf8, kwdata={'all': {'created_on': datetime.datetime(2021, 9, 23, 7, 23, 29)}, 'game_0>player_0': {'Score': 14800, 'Time played': datetime.timedelta(seconds=84)}}>, <Episode(episode_id=114482f8fabb408d8f4e405e938e9fcb, environment_id=ccdedf20418347179489986f00dddcb9, kwdata={'all': {'created_on': datetime.datetime(2021, 9, 29, 19, 22, 28)}, 'game_0>player_0': {'Score': 11825, 'Time played': datetime.timedelta(seconds=125)}}>, <Episode(episode_id=d22ca58cae034b69a01f07947ba24ef9, environment_id=ccdedf20418347179489986f00dddcb9, kwdata={'all': {'created_on': datetime.datetime(2021, 9, 29, 19, 24, 37)}, 'game_0>player_0': {'Score': 11575, 'Time played': datetime.timedelta(seconds=114)}}>, <Episode(episode_id=30f4f359369a43c091cc5b4056c2367f, environment_id=ebe8a7e3e70b41f78bed76f0364f5e46, kwdata={'all': {'created_on': datetime.datetime(2021, 10, 14, 2, 6, 39)}, 'game_0>player_0': {'Score': 19975, 'Time played': datetime.timedelta(seconds=166)}}>, <Episode(episode_id=be386f15cdce4e9ba341a28cefaf443c, environment_id=ebe8a7e3e70b41f78bed76f0364f5e46, kwdata={'all': {'created_on': datetime.datetime(2021, 10, 14, 2, 4, 59)}, 'game_0>player_0': {'Score': 11675, 'Time played': datetime.timedelta(seconds=96)}}>]\n"
                    ]
                }
            ],
            "source": [
                "# We can use this to filter episodes.\n",
                "# For instance, let's look at all the episodes with a Score of at least 10000\n",
                "print([e for e in all_episodes if e.keyword_data[P0]['Score'] >= 10000])"
            ]
        },
        {
            "cell_type": "code",
            "execution_count": 47,
            "metadata": {},
            "outputs": [
                {
                    "name": "stdout",
                    "output_type": "stream",
                    "text": [
                        "['Task ID: qbert_socialmedia, Score 11700', 'Task ID: qbert_socialmedia, Score 14500', 'Task ID: qbert_socialmedia, Score 11400', 'Task ID: qbert_mturk, Score 14950', 'Task ID: qbert_mturk, Score 12000', 'Task ID: qbert_mturk, Score 11225', 'Task ID: qbert_mturk, Score 14600', 'Task ID: qbert_mturk, Score 14650', 'Task ID: qbert_mturk, Score 11650', 'Task ID: qbert_socialmedia, Score 30525', 'Task ID: qbert_socialmedia, Score 18675', 'Task ID: qbert_socialmedia, Score 14550', 'Task ID: qbert_socialmedia, Score 14800', 'Task ID: qbert_socialmedia, Score 11825', 'Task ID: qbert_socialmedia, Score 11575', 'Task ID: qbert_socialmedia, Score 19975', 'Task ID: qbert_socialmedia, Score 11675']\n"
                    ]
                }
            ],
            "source": [
                "# But now we don't know what game / task these are for! That is stored in the episode's environment:\n",
                "print([f\"Task ID: {e.environment.task_id}, Score {e.keyword_data[P0]['Score']}\" for e in all_episodes if e.keyword_data[P0]['Score'] >= 10000])"
            ]
        },
        {
            "cell_type": "code",
            "execution_count": 48,
            "metadata": {},
            "outputs": [
                {
                    "name": "stdout",
                    "output_type": "stream",
                    "text": [
                        "[<Episode(episode_id=34f091b4abe64223a64df0c2fc9945df, environment_id=51d8cadfe88d44279a341cfd9e3c55b2, kwdata={'all': {'created_on': datetime.datetime(2021, 9, 17, 14, 28, 37)}, 'game_0>player_0': {'Active playtime': datetime.timedelta(seconds=47), 'Correct aliens shot (fraction)': 1.0, 'Correct aliens shot (total)': 24, 'Score': 620, 'Time played': datetime.timedelta(seconds=47)}}>, <Episode(episode_id=5e6a4e7141244f9ab74d40c104675912, environment_id=51d8cadfe88d44279a341cfd9e3c55b2, kwdata={'all': {'created_on': datetime.datetime(2021, 9, 17, 14, 29, 27)}, 'game_0>player_0': {'Active playtime': datetime.timedelta(seconds=48), 'Correct aliens shot (fraction)': 1.0, 'Correct aliens shot (total)': 24, 'Score': 420, 'Time played': datetime.timedelta(seconds=48)}}>, <Episode(episode_id=61827ed1272640bf89612181e2420621, environment_id=51d8cadfe88d44279a341cfd9e3c55b2, kwdata={'all': {'created_on': datetime.datetime(2021, 9, 17, 14, 22, 21)}, 'game_0>player_0': {'Active playtime': datetime.timedelta(seconds=54), 'Correct aliens shot (fraction)': 1.0, 'Correct aliens shot (total)': 33, 'Score': 545, 'Time played': datetime.timedelta(seconds=54)}}>, <Episode(episode_id=6d4516a67e324f3e8896e337fdf0147f, environment_id=51d8cadfe88d44279a341cfd9e3c55b2, kwdata={'all': {'created_on': datetime.datetime(2021, 9, 17, 14, 27, 17)}, 'game_0>player_0': {'Active playtime': datetime.timedelta(seconds=38), 'Correct aliens shot (fraction)': 1.0, 'Correct aliens shot (total)': 29, 'Score': 495, 'Time played': datetime.timedelta(seconds=38)}}>, <Episode(episode_id=90bb4cddbfe14ff5a7b1a6cb16983357, environment_id=51d8cadfe88d44279a341cfd9e3c55b2, kwdata={'all': {'created_on': datetime.datetime(2021, 9, 17, 14, 26, 33)}, 'game_0>player_0': {'Active playtime': datetime.timedelta(seconds=40), 'Correct aliens shot (fraction)': 1.0, 'Correct aliens shot (total)': 24, 'Score': 420, 'Time played': datetime.timedelta(seconds=40)}}>, <Episode(episode_id=b3b00a562cc74f8db1b8a3fdb9f6182a, environment_id=51d8cadfe88d44279a341cfd9e3c55b2, kwdata={'all': {'created_on': datetime.datetime(2021, 9, 17, 14, 30, 19)}, 'game_0>player_0': {'Active playtime': datetime.timedelta(seconds=36), 'Correct aliens shot (fraction)': 1.0, 'Correct aliens shot (total)': 18, 'Score': 315, 'Time played': datetime.timedelta(seconds=36)}}>, <Episode(episode_id=b70a289d2e7d4871a7b51b0a50b74b44, environment_id=51d8cadfe88d44279a341cfd9e3c55b2, kwdata={'all': {'created_on': datetime.datetime(2021, 9, 17, 14, 23, 19)}, 'game_0>player_0': {'Active playtime': datetime.timedelta(seconds=43), 'Correct aliens shot (fraction)': 1.0, 'Correct aliens shot (total)': 27, 'Score': 455, 'Time played': datetime.timedelta(seconds=43)}}>, <Episode(episode_id=bb525cc1175441e8b58dbe9c45d71170, environment_id=51d8cadfe88d44279a341cfd9e3c55b2, kwdata={'all': {'created_on': datetime.datetime(2021, 9, 17, 14, 24, 6)}, 'game_0>player_0': {'Active playtime': datetime.timedelta(seconds=39), 'Correct aliens shot (fraction)': 1.0, 'Correct aliens shot (total)': 29, 'Score': 495, 'Time played': datetime.timedelta(seconds=39)}}>, <Episode(episode_id=bd5d582918024c9dbe858a57466e31c3, environment_id=51d8cadfe88d44279a341cfd9e3c55b2, kwdata={'all': {'created_on': datetime.datetime(2021, 9, 17, 14, 25, 45)}, 'game_0>player_0': {'Active playtime': datetime.timedelta(seconds=45), 'Correct aliens shot (fraction)': 1.0, 'Correct aliens shot (total)': 29, 'Score': 695, 'Time played': datetime.timedelta(seconds=45)}}>, <Episode(episode_id=c658971681624e4dbfe49a91b8d8f7fe, environment_id=51d8cadfe88d44279a341cfd9e3c55b2, kwdata={'all': {'created_on': datetime.datetime(2021, 9, 17, 14, 27, 58)}, 'game_0>player_0': {'Active playtime': datetime.timedelta(seconds=35), 'Correct aliens shot (fraction)': 1.0, 'Correct aliens shot (total)': 29, 'Score': 495, 'Time played': datetime.timedelta(seconds=35)}}>, <Episode(episode_id=e075a3670a114d3a91c223f8009ea368, environment_id=51d8cadfe88d44279a341cfd9e3c55b2, kwdata={'all': {'created_on': datetime.datetime(2021, 9, 17, 14, 20, 45)}, 'game_0>player_0': {'Active playtime': datetime.timedelta(seconds=42), 'Correct aliens shot (fraction)': 1.0, 'Correct aliens shot (total)': 29, 'Score': 495, 'Time played': datetime.timedelta(seconds=42)}}>, <Episode(episode_id=6098f8ee316548d8a15c3e660f985226, environment_id=7b2b34127cc04e74b063c0cea7143653, kwdata={'all': {'created_on': datetime.datetime(2021, 9, 17, 2, 53, 12)}, 'game_0>player_0': {'Active playtime': datetime.timedelta(seconds=31), 'Correct aliens shot (fraction)': 1.0, 'Correct aliens shot (total)': 3, 'Score': 40, 'Time played': datetime.timedelta(seconds=31)}}>, <Episode(episode_id=046c2cd001974debb61abd5908cd5bc9, environment_id=85a217ccecba4583af0afce3dd2caf5b, kwdata={'all': {'created_on': datetime.datetime(2021, 9, 17, 3, 1, 58)}, 'game_0>player_0': {'Active playtime': datetime.timedelta(seconds=43), 'Correct aliens shot (fraction)': 1.0, 'Correct aliens shot (total)': 20, 'Score': 310, 'Time played': datetime.timedelta(seconds=43)}}>, <Episode(episode_id=53a8fe8684eb490e8b33f07fb75586db, environment_id=85a217ccecba4583af0afce3dd2caf5b, kwdata={'all': {'created_on': datetime.datetime(2021, 9, 17, 2, 59, 27)}, 'game_0>player_0': {'Active playtime': datetime.timedelta(seconds=45), 'Correct aliens shot (fraction)': 1.0, 'Correct aliens shot (total)': 21, 'Score': 335, 'Time played': datetime.timedelta(seconds=45)}}>, <Episode(episode_id=5c680eccb746498b83bece9f56835702, environment_id=85a217ccecba4583af0afce3dd2caf5b, kwdata={'all': {'created_on': datetime.datetime(2021, 9, 17, 2, 50, 4)}, 'game_0>player_0': {'Active playtime': datetime.timedelta(seconds=43), 'Correct aliens shot (fraction)': 1.0, 'Correct aliens shot (total)': 20, 'Score': 315, 'Time played': datetime.timedelta(seconds=43)}}>, <Episode(episode_id=7a3404bddcb2439fbc40b1312abccf28, environment_id=85a217ccecba4583af0afce3dd2caf5b, kwdata={'all': {'created_on': datetime.datetime(2021, 9, 17, 3, 3, 36)}, 'game_0>player_0': {'Active playtime': datetime.timedelta(seconds=55), 'Correct aliens shot (fraction)': 1.0, 'Correct aliens shot (total)': 20, 'Score': 330, 'Time played': datetime.timedelta(seconds=55)}}>, <Episode(episode_id=7f998406bdf94a22a481eef1e4428ab5, environment_id=85a217ccecba4583af0afce3dd2caf5b, kwdata={'all': {'created_on': datetime.datetime(2021, 9, 17, 2, 52, 33)}, 'game_0>player_0': {'Active playtime': datetime.timedelta(seconds=48), 'Correct aliens shot (fraction)': 1.0, 'Correct aliens shot (total)': 21, 'Score': 345, 'Time played': datetime.timedelta(seconds=48)}}>, <Episode(episode_id=83f56484ee4c4fa39cd24e9c7bba6ca1, environment_id=85a217ccecba4583af0afce3dd2caf5b, kwdata={'all': {'created_on': datetime.datetime(2021, 9, 17, 2, 53, 25)}, 'game_0>player_0': {'Active playtime': datetime.timedelta(seconds=45), 'Correct aliens shot (fraction)': 1.0, 'Correct aliens shot (total)': 21, 'Score': 335, 'Time played': datetime.timedelta(seconds=45)}}>, <Episode(episode_id=8876be1da2074bad8f8d7ade982efd22, environment_id=85a217ccecba4583af0afce3dd2caf5b, kwdata={'all': {'created_on': datetime.datetime(2021, 9, 17, 2, 58, 32)}, 'game_0>player_0': {'Active playtime': datetime.timedelta(seconds=52), 'Correct aliens shot (fraction)': 1.0, 'Correct aliens shot (total)': 19, 'Score': 320, 'Time played': datetime.timedelta(seconds=52)}}>, <Episode(episode_id=8c4c32f4c23b447094bed648dd1b2bc8, environment_id=85a217ccecba4583af0afce3dd2caf5b, kwdata={'all': {'created_on': datetime.datetime(2021, 9, 17, 3, 0, 16)}, 'game_0>player_0': {'Active playtime': datetime.timedelta(seconds=49), 'Correct aliens shot (fraction)': 1.0, 'Correct aliens shot (total)': 20, 'Score': 320, 'Time played': datetime.timedelta(seconds=49)}}>, <Episode(episode_id=acde4ad80ee343cfa5612d99a3a8d63f, environment_id=85a217ccecba4583af0afce3dd2caf5b, kwdata={'all': {'created_on': datetime.datetime(2021, 9, 17, 2, 50, 51)}, 'game_0>player_0': {'Active playtime': datetime.timedelta(seconds=50), 'Correct aliens shot (fraction)': 1.0, 'Correct aliens shot (total)': 20, 'Score': 310, 'Time played': datetime.timedelta(seconds=50)}}>, <Episode(episode_id=b10b93d7684b40fc805a1f63f3f3fb73, environment_id=85a217ccecba4583af0afce3dd2caf5b, kwdata={'all': {'created_on': datetime.datetime(2021, 9, 17, 2, 55, 47)}, 'game_0>player_0': {'Active playtime': datetime.timedelta(seconds=47), 'Correct aliens shot (fraction)': 1.0, 'Correct aliens shot (total)': 22, 'Score': 365, 'Time played': datetime.timedelta(seconds=47)}}>, <Episode(episode_id=bd52762104ac4c6dbac5cb4bae4de2fc, environment_id=85a217ccecba4583af0afce3dd2caf5b, kwdata={'all': {'created_on': datetime.datetime(2021, 9, 17, 3, 2, 45)}, 'game_0>player_0': {'Active playtime': datetime.timedelta(seconds=48), 'Correct aliens shot (fraction)': 1.0, 'Correct aliens shot (total)': 22, 'Score': 360, 'Time played': datetime.timedelta(seconds=48)}}>, <Episode(episode_id=c757248dc5ca437da4e4a4cc028017d4, environment_id=85a217ccecba4583af0afce3dd2caf5b, kwdata={'all': {'created_on': datetime.datetime(2021, 9, 17, 2, 54, 14)}, 'game_0>player_0': {'Active playtime': datetime.timedelta(seconds=42), 'Correct aliens shot (fraction)': 1.0, 'Correct aliens shot (total)': 24, 'Score': 420, 'Time played': datetime.timedelta(seconds=42)}}>, <Episode(episode_id=d1dc12d9708848f4b26f4757fa3d0dc0, environment_id=85a217ccecba4583af0afce3dd2caf5b, kwdata={'all': {'created_on': datetime.datetime(2021, 9, 17, 2, 51, 45)}, 'game_0>player_0': {'Active playtime': datetime.timedelta(seconds=45), 'Correct aliens shot (fraction)': 1.0, 'Correct aliens shot (total)': 23, 'Score': 390, 'Time played': datetime.timedelta(seconds=45)}}>, <Episode(episode_id=d2319fcc364e4dcbac7d1282ffc561c8, environment_id=85a217ccecba4583af0afce3dd2caf5b, kwdata={'all': {'created_on': datetime.datetime(2021, 9, 17, 2, 57, 42)}, 'game_0>player_0': {'Active playtime': datetime.timedelta(seconds=46), 'Correct aliens shot (fraction)': 1.0, 'Correct aliens shot (total)': 22, 'Score': 360, 'Time played': datetime.timedelta(seconds=46)}}>, <Episode(episode_id=dfe6ce7b520c4e138132f4846ce7042b, environment_id=85a217ccecba4583af0afce3dd2caf5b, kwdata={'all': {'created_on': datetime.datetime(2021, 9, 17, 2, 55)}, 'game_0>player_0': {'Active playtime': datetime.timedelta(seconds=44), 'Correct aliens shot (fraction)': 1.0, 'Correct aliens shot (total)': 21, 'Score': 335, 'Time played': datetime.timedelta(seconds=44)}}>, <Episode(episode_id=ee0c943ce00b4cddbbf2a004866dc3c8, environment_id=85a217ccecba4583af0afce3dd2caf5b, kwdata={'all': {'created_on': datetime.datetime(2021, 9, 17, 3, 1, 9)}, 'game_0>player_0': {'Active playtime': datetime.timedelta(seconds=45), 'Correct aliens shot (fraction)': 1.0, 'Correct aliens shot (total)': 22, 'Score': 560, 'Time played': datetime.timedelta(seconds=45)}}>, <Episode(episode_id=f5fb4e421b764a5493d0992c0b19b395, environment_id=85a217ccecba4583af0afce3dd2caf5b, kwdata={'all': {'created_on': datetime.datetime(2021, 9, 17, 2, 56, 38)}, 'game_0>player_0': {'Active playtime': datetime.timedelta(seconds=61), 'Correct aliens shot (fraction)': 1.0, 'Correct aliens shot (total)': 21, 'Score': 335, 'Time played': datetime.timedelta(seconds=61)}}>, <Episode(episode_id=3c4cbc9c78e34177b8a4507ab25df74d, environment_id=bdfef62917e84a29924a7f8359279256, kwdata={'all': {'created_on': datetime.datetime(2021, 10, 5, 21, 23, 37)}, 'game_0>player_0': {'Active playtime': datetime.timedelta(seconds=22), 'Correct aliens shot (fraction)': 1.0, 'Correct aliens shot (total)': 5, 'Score': 55, 'Time played': datetime.timedelta(seconds=22)}}>]\n"
                    ]
                }
            ],
            "source": [
                "# All episodes should have at least a 'Score' and a 'Time played' entry for each player in its keyword_data. \n",
                "# Other entries are task dependent, and can be looked at by either printing e.keyword_data[P0].keys(), or by looking in crowdplay_environments.py in the backend code.\n",
                "# For instance we can filter episodes in the multimodal dataset by how closely the participant followed the task instructions.\n",
                "print([e for e in all_episodes if e.environment.task_id=='space_invaders_insideout' and e.keyword_data[P0]['Correct aliens shot (fraction)'] >= 0.99])"
            ]
        },
        {
            "cell_type": "code",
            "execution_count": 49,
            "metadata": {},
            "outputs": [
                {
                    "name": "stdout",
                    "output_type": "stream",
                    "text": [
                        "['beam_rider', 'breakout', 'montezuma_revenge', 'qbert', 'riverraid', 'space_invaders', 'space_invaders_2p', 'space_invaders_ai']\n",
                        "['competitive', 'cooperative', 'insideout', 'insideout_incentives', 'left', 'outsidein', 'plain', 'right', 'rowbyrow']\n",
                        "['email', 'mturk', 'socialmedia']\n"
                    ]
                }
            ],
            "source": []
        },
        {
            "cell_type": "code",
            "execution_count": 50,
            "metadata": {},
            "outputs": [
                {
                    "data": {
                        "text/plain": [
                            "[<Episode(episode_id=c3fcd72e918d43f18b24d986691abbe0, environment_id=23311a08470743d994ed54b55f44eb75, kwdata={'all': {'created_on': datetime.datetime(2021, 10, 1, 8, 12, 1)}, 'game_0>player_0': {'Active playtime': datetime.timedelta(seconds=40), 'Correct aliens shot (fraction)': 1.0, 'Correct aliens shot (total)': 14, 'Score': 425, 'Time played': datetime.timedelta(seconds=40)}}>,\n",
                            " <Episode(episode_id=34f091b4abe64223a64df0c2fc9945df, environment_id=51d8cadfe88d44279a341cfd9e3c55b2, kwdata={'all': {'created_on': datetime.datetime(2021, 9, 17, 14, 28, 37)}, 'game_0>player_0': {'Active playtime': datetime.timedelta(seconds=47), 'Correct aliens shot (fraction)': 1.0, 'Correct aliens shot (total)': 24, 'Score': 620, 'Time played': datetime.timedelta(seconds=47)}}>,\n",
                            " <Episode(episode_id=5e6a4e7141244f9ab74d40c104675912, environment_id=51d8cadfe88d44279a341cfd9e3c55b2, kwdata={'all': {'created_on': datetime.datetime(2021, 9, 17, 14, 29, 27)}, 'game_0>player_0': {'Active playtime': datetime.timedelta(seconds=48), 'Correct aliens shot (fraction)': 1.0, 'Correct aliens shot (total)': 24, 'Score': 420, 'Time played': datetime.timedelta(seconds=48)}}>,\n",
                            " <Episode(episode_id=61827ed1272640bf89612181e2420621, environment_id=51d8cadfe88d44279a341cfd9e3c55b2, kwdata={'all': {'created_on': datetime.datetime(2021, 9, 17, 14, 22, 21)}, 'game_0>player_0': {'Active playtime': datetime.timedelta(seconds=54), 'Correct aliens shot (fraction)': 1.0, 'Correct aliens shot (total)': 33, 'Score': 545, 'Time played': datetime.timedelta(seconds=54)}}>,\n",
                            " <Episode(episode_id=6d4516a67e324f3e8896e337fdf0147f, environment_id=51d8cadfe88d44279a341cfd9e3c55b2, kwdata={'all': {'created_on': datetime.datetime(2021, 9, 17, 14, 27, 17)}, 'game_0>player_0': {'Active playtime': datetime.timedelta(seconds=38), 'Correct aliens shot (fraction)': 1.0, 'Correct aliens shot (total)': 29, 'Score': 495, 'Time played': datetime.timedelta(seconds=38)}}>,\n",
                            " <Episode(episode_id=90bb4cddbfe14ff5a7b1a6cb16983357, environment_id=51d8cadfe88d44279a341cfd9e3c55b2, kwdata={'all': {'created_on': datetime.datetime(2021, 9, 17, 14, 26, 33)}, 'game_0>player_0': {'Active playtime': datetime.timedelta(seconds=40), 'Correct aliens shot (fraction)': 1.0, 'Correct aliens shot (total)': 24, 'Score': 420, 'Time played': datetime.timedelta(seconds=40)}}>,\n",
                            " <Episode(episode_id=b3b00a562cc74f8db1b8a3fdb9f6182a, environment_id=51d8cadfe88d44279a341cfd9e3c55b2, kwdata={'all': {'created_on': datetime.datetime(2021, 9, 17, 14, 30, 19)}, 'game_0>player_0': {'Active playtime': datetime.timedelta(seconds=36), 'Correct aliens shot (fraction)': 1.0, 'Correct aliens shot (total)': 18, 'Score': 315, 'Time played': datetime.timedelta(seconds=36)}}>,\n",
                            " <Episode(episode_id=b70a289d2e7d4871a7b51b0a50b74b44, environment_id=51d8cadfe88d44279a341cfd9e3c55b2, kwdata={'all': {'created_on': datetime.datetime(2021, 9, 17, 14, 23, 19)}, 'game_0>player_0': {'Active playtime': datetime.timedelta(seconds=43), 'Correct aliens shot (fraction)': 1.0, 'Correct aliens shot (total)': 27, 'Score': 455, 'Time played': datetime.timedelta(seconds=43)}}>,\n",
                            " <Episode(episode_id=bb525cc1175441e8b58dbe9c45d71170, environment_id=51d8cadfe88d44279a341cfd9e3c55b2, kwdata={'all': {'created_on': datetime.datetime(2021, 9, 17, 14, 24, 6)}, 'game_0>player_0': {'Active playtime': datetime.timedelta(seconds=39), 'Correct aliens shot (fraction)': 1.0, 'Correct aliens shot (total)': 29, 'Score': 495, 'Time played': datetime.timedelta(seconds=39)}}>,\n",
                            " <Episode(episode_id=bd5d582918024c9dbe858a57466e31c3, environment_id=51d8cadfe88d44279a341cfd9e3c55b2, kwdata={'all': {'created_on': datetime.datetime(2021, 9, 17, 14, 25, 45)}, 'game_0>player_0': {'Active playtime': datetime.timedelta(seconds=45), 'Correct aliens shot (fraction)': 1.0, 'Correct aliens shot (total)': 29, 'Score': 695, 'Time played': datetime.timedelta(seconds=45)}}>,\n",
                            " <Episode(episode_id=c658971681624e4dbfe49a91b8d8f7fe, environment_id=51d8cadfe88d44279a341cfd9e3c55b2, kwdata={'all': {'created_on': datetime.datetime(2021, 9, 17, 14, 27, 58)}, 'game_0>player_0': {'Active playtime': datetime.timedelta(seconds=35), 'Correct aliens shot (fraction)': 1.0, 'Correct aliens shot (total)': 29, 'Score': 495, 'Time played': datetime.timedelta(seconds=35)}}>,\n",
                            " <Episode(episode_id=e075a3670a114d3a91c223f8009ea368, environment_id=51d8cadfe88d44279a341cfd9e3c55b2, kwdata={'all': {'created_on': datetime.datetime(2021, 9, 17, 14, 20, 45)}, 'game_0>player_0': {'Active playtime': datetime.timedelta(seconds=42), 'Correct aliens shot (fraction)': 1.0, 'Correct aliens shot (total)': 29, 'Score': 495, 'Time played': datetime.timedelta(seconds=42)}}>,\n",
                            " <Episode(episode_id=09139cb93312480f86fdfe7eafddf3e8, environment_id=54f4202144a64ebc968825b28374d0a6, kwdata={'all': {'created_on': datetime.datetime(2021, 10, 4, 2, 58, 59)}, 'game_0>player_0': {'Active playtime': datetime.timedelta(seconds=40), 'Correct aliens shot (fraction)': 1.0, 'Correct aliens shot (total)': 12, 'Score': 210, 'Time played': datetime.timedelta(seconds=40)}}>,\n",
                            " <Episode(episode_id=14f3b30ed497435788ba5a733c13fcf7, environment_id=54f4202144a64ebc968825b28374d0a6, kwdata={'all': {'created_on': datetime.datetime(2021, 10, 4, 2, 55, 27)}, 'game_0>player_0': {'Active playtime': datetime.timedelta(seconds=40), 'Correct aliens shot (fraction)': 1.0, 'Correct aliens shot (total)': 8, 'Score': 330, 'Time played': datetime.timedelta(seconds=40)}}>,\n",
                            " <Episode(episode_id=25a2171741404ce4bc991f44ecade941, environment_id=54f4202144a64ebc968825b28374d0a6, kwdata={'all': {'created_on': datetime.datetime(2021, 10, 4, 3, 5, 40)}, 'game_0>player_0': {'Active playtime': datetime.timedelta(seconds=41), 'Correct aliens shot (fraction)': 1.0, 'Correct aliens shot (total)': 12, 'Score': 210, 'Time played': datetime.timedelta(seconds=41)}}>,\n",
                            " <Episode(episode_id=4797228ce2ba4671a20b8767845ef4b0, environment_id=54f4202144a64ebc968825b28374d0a6, kwdata={'all': {'created_on': datetime.datetime(2021, 10, 4, 3, 6, 25)}, 'game_0>player_0': {'Active playtime': datetime.timedelta(seconds=41), 'Correct aliens shot (fraction)': 1.0, 'Correct aliens shot (total)': 11, 'Score': 180, 'Time played': datetime.timedelta(seconds=41)}}>,\n",
                            " <Episode(episode_id=497553d3473a4d69a639f059bcb6894b, environment_id=54f4202144a64ebc968825b28374d0a6, kwdata={'all': {'created_on': datetime.datetime(2021, 10, 4, 2, 11, 44)}, 'game_0>player_0': {'Active playtime': datetime.timedelta(seconds=47), 'Correct aliens shot (fraction)': 1.0, 'Correct aliens shot (total)': 13, 'Score': 215, 'Time played': datetime.timedelta(seconds=47)}}>,\n",
                            " <Episode(episode_id=510ec1a6184b40bb9f5b11aefff9b85e, environment_id=54f4202144a64ebc968825b28374d0a6, kwdata={'all': {'created_on': datetime.datetime(2021, 10, 4, 2, 50, 25)}, 'game_0>player_0': {'Active playtime': datetime.timedelta(seconds=21), 'Correct aliens shot (fraction)': 1.0, 'Correct aliens shot (total)': 2, 'Score': 30, 'Time played': datetime.timedelta(seconds=21)}}>,\n",
                            " <Episode(episode_id=60e5485160eb435ea0f84607658cc94c, environment_id=54f4202144a64ebc968825b28374d0a6, kwdata={'all': {'created_on': datetime.datetime(2021, 10, 4, 2, 50, 6)}, 'game_0>player_0': {'Active playtime': datetime.timedelta(seconds=16), 'Correct aliens shot (fraction)': 1.0, 'Correct aliens shot (total)': 1, 'Score': 5, 'Time played': datetime.timedelta(seconds=16)}}>,\n",
                            " <Episode(episode_id=62b082fc25ab44809edb7ac9c979ddbf, environment_id=54f4202144a64ebc968825b28374d0a6, kwdata={'all': {'created_on': datetime.datetime(2021, 10, 4, 3, 2, 47)}, 'game_0>player_0': {'Active playtime': datetime.timedelta(seconds=54), 'Correct aliens shot (fraction)': 1.0, 'Correct aliens shot (total)': 16, 'Score': 270, 'Time played': datetime.timedelta(seconds=54)}}>,\n",
                            " <Episode(episode_id=6339050089774c2ca576ae9484a1c1fb, environment_id=54f4202144a64ebc968825b28374d0a6, kwdata={'all': {'created_on': datetime.datetime(2021, 10, 4, 1, 54, 19)}, 'game_0>player_0': {'Active playtime': datetime.timedelta(seconds=34), 'Correct aliens shot (fraction)': 1.0, 'Correct aliens shot (total)': 4, 'Score': 50, 'Time played': datetime.timedelta(seconds=34)}}>,\n",
                            " <Episode(episode_id=6cfe75cbfff242ac9f3d23a01fb95ff4, environment_id=54f4202144a64ebc968825b28374d0a6, kwdata={'all': {'created_on': datetime.datetime(2021, 10, 4, 1, 49, 24)}, 'game_0>player_0': {'Active playtime': datetime.timedelta(seconds=30), 'Correct aliens shot (fraction)': 1.0, 'Correct aliens shot (total)': 10, 'Score': 155, 'Time played': datetime.timedelta(seconds=30)}}>,\n",
                            " <Episode(episode_id=772077a465844b9bb9424c1fec025097, environment_id=54f4202144a64ebc968825b28374d0a6, kwdata={'all': {'created_on': datetime.datetime(2021, 10, 4, 1, 52, 40)}, 'game_0>player_0': {'Active playtime': datetime.timedelta(seconds=31), 'Correct aliens shot (fraction)': 1.0, 'Correct aliens shot (total)': 10, 'Score': 155, 'Time played': datetime.timedelta(seconds=31)}}>,\n",
                            " <Episode(episode_id=805654991a7240fd93b2275a7011a8a8, environment_id=54f4202144a64ebc968825b28374d0a6, kwdata={'all': {'created_on': datetime.datetime(2021, 10, 4, 3, 0, 22)}, 'game_0>player_0': {'Active playtime': datetime.timedelta(seconds=59), 'Correct aliens shot (fraction)': 1.0, 'Correct aliens shot (total)': 16, 'Score': 660, 'Time played': datetime.timedelta(seconds=59)}}>,\n",
                            " <Episode(episode_id=8398866c4bb84e89b6947b2384f56522, environment_id=54f4202144a64ebc968825b28374d0a6, kwdata={'all': {'created_on': datetime.datetime(2021, 10, 4, 3, 1, 25)}, 'game_0>player_0': {'Active playtime': datetime.timedelta(seconds=24), 'Correct aliens shot (fraction)': 1.0, 'Correct aliens shot (total)': 2, 'Score': 15, 'Time played': datetime.timedelta(seconds=24)}}>,\n",
                            " <Episode(episode_id=9216cc4523d844faa2f7bbc2543737c8, environment_id=54f4202144a64ebc968825b28374d0a6, kwdata={'all': {'created_on': datetime.datetime(2021, 10, 4, 2, 59, 43)}, 'game_0>player_0': {'Active playtime': datetime.timedelta(seconds=36), 'Correct aliens shot (fraction)': 1.0, 'Correct aliens shot (total)': 9, 'Score': 135, 'Time played': datetime.timedelta(seconds=36)}}>,\n",
                            " <Episode(episode_id=9766382578b8460b81432dbe3a513ef1, environment_id=54f4202144a64ebc968825b28374d0a6, kwdata={'all': {'created_on': datetime.datetime(2021, 10, 4, 3, 1, 53)}, 'game_0>player_0': {'Active playtime': datetime.timedelta(seconds=51), 'Correct aliens shot (fraction)': 1.0, 'Correct aliens shot (total)': 9, 'Score': 335, 'Time played': datetime.timedelta(seconds=51)}}>,\n",
                            " <Episode(episode_id=b4b8c2d8e35d446fbb201b020b5ad412, environment_id=54f4202144a64ebc968825b28374d0a6, kwdata={'all': {'created_on': datetime.datetime(2021, 10, 4, 3, 3, 44)}, 'game_0>player_0': {'Active playtime': datetime.timedelta(seconds=50), 'Correct aliens shot (fraction)': 1.0, 'Correct aliens shot (total)': 8, 'Score': 120, 'Time played': datetime.timedelta(seconds=50)}}>,\n",
                            " <Episode(episode_id=b83a92387c624a5cab6d785c03884bf6, environment_id=54f4202144a64ebc968825b28374d0a6, kwdata={'all': {'created_on': datetime.datetime(2021, 10, 4, 2, 48, 46)}, 'game_0>player_0': {'Active playtime': datetime.timedelta(seconds=76), 'Correct aliens shot (fraction)': 1.0, 'Correct aliens shot (total)': 12, 'Score': 210, 'Time played': datetime.timedelta(seconds=76)}}>,\n",
                            " <Episode(episode_id=beb01f3ee9db4fd699c4a7e45f3ee5bf, environment_id=54f4202144a64ebc968825b28374d0a6, kwdata={'all': {'created_on': datetime.datetime(2021, 10, 4, 1, 50, 47)}, 'game_0>player_0': {'Active playtime': datetime.timedelta(seconds=51), 'Correct aliens shot (fraction)': 1.0, 'Correct aliens shot (total)': 10, 'Score': 155, 'Time played': datetime.timedelta(seconds=51)}}>,\n",
                            " <Episode(episode_id=c554626e309b4ff98532cd756cb670cd, environment_id=54f4202144a64ebc968825b28374d0a6, kwdata={'all': {'created_on': datetime.datetime(2021, 10, 4, 2, 36, 41)}, 'game_0>player_0': {'Active playtime': datetime.timedelta(seconds=33), 'Correct aliens shot (fraction)': 1.0, 'Correct aliens shot (total)': 1, 'Score': 20, 'Time played': datetime.timedelta(seconds=33)}}>,\n",
                            " <Episode(episode_id=ccd42a41086c487a9c1bb8c4358ef7f7, environment_id=54f4202144a64ebc968825b28374d0a6, kwdata={'all': {'created_on': datetime.datetime(2021, 10, 4, 1, 49, 58)}, 'game_0>player_0': {'Active playtime': datetime.timedelta(seconds=44), 'Correct aliens shot (fraction)': 1.0, 'Correct aliens shot (total)': 1, 'Score': 5, 'Time played': datetime.timedelta(seconds=44)}}>,\n",
                            " <Episode(episode_id=d07bd9c92a5d4d1c812b08baac3f96f9, environment_id=54f4202144a64ebc968825b28374d0a6, kwdata={'all': {'created_on': datetime.datetime(2021, 10, 4, 2, 7, 21)}, 'game_0>player_0': {'Active playtime': datetime.timedelta(seconds=18), 'Correct aliens shot (fraction)': 1.0, 'Correct aliens shot (total)': 2, 'Score': 15, 'Time played': datetime.timedelta(seconds=18)}}>,\n",
                            " <Episode(episode_id=d1d9ad4e16b74c3d82304d10a7929c09, environment_id=54f4202144a64ebc968825b28374d0a6, kwdata={'all': {'created_on': datetime.datetime(2021, 10, 4, 2, 0)}, 'game_0>player_0': {'Active playtime': datetime.timedelta(seconds=32), 'Correct aliens shot (fraction)': 1.0, 'Correct aliens shot (total)': 1, 'Score': 25, 'Time played': datetime.timedelta(seconds=45)}}>,\n",
                            " <Episode(episode_id=dadf71211b1d4820b17146cdb44515cd, environment_id=54f4202144a64ebc968825b28374d0a6, kwdata={'all': {'created_on': datetime.datetime(2021, 10, 4, 2, 48, 6)}, 'game_0>player_0': {'Active playtime': datetime.timedelta(seconds=37), 'Correct aliens shot (fraction)': 1.0, 'Correct aliens shot (total)': 11, 'Score': 180, 'Time played': datetime.timedelta(seconds=37)}}>,\n",
                            " <Episode(episode_id=e05a7638ac0d4925bdbedc74be336a77, environment_id=54f4202144a64ebc968825b28374d0a6, kwdata={'all': {'created_on': datetime.datetime(2021, 10, 4, 3, 8, 42)}, 'game_0>player_0': {'Active playtime': datetime.timedelta(seconds=41), 'Correct aliens shot (fraction)': 1.0, 'Correct aliens shot (total)': 2, 'Score': 15, 'Time played': datetime.timedelta(seconds=56)}}>,\n",
                            " <Episode(episode_id=ea988dbb0d944db48047921fee41eab1, environment_id=54f4202144a64ebc968825b28374d0a6, kwdata={'all': {'created_on': datetime.datetime(2021, 10, 4, 3, 4, 38)}, 'game_0>player_0': {'Active playtime': datetime.timedelta(seconds=58), 'Correct aliens shot (fraction)': 1.0, 'Correct aliens shot (total)': 14, 'Score': 225, 'Time played': datetime.timedelta(seconds=58)}}>,\n",
                            " <Episode(episode_id=ec12aa9c3ed449ffb251eb582d62b977, environment_id=54f4202144a64ebc968825b28374d0a6, kwdata={'all': {'created_on': datetime.datetime(2021, 10, 4, 2, 50, 50)}, 'game_0>player_0': {'Active playtime': datetime.timedelta(seconds=42), 'Correct aliens shot (fraction)': 1.0, 'Correct aliens shot (total)': 11, 'Score': 180, 'Time played': datetime.timedelta(seconds=42)}}>,\n",
                            " <Episode(episode_id=ef95bc90d4f5488e87b6dd6f5bb04718, environment_id=54f4202144a64ebc968825b28374d0a6, kwdata={'all': {'created_on': datetime.datetime(2021, 10, 4, 1, 58, 51)}, 'game_0>player_0': {'Active playtime': datetime.timedelta(seconds=29), 'Correct aliens shot (fraction)': 1.0, 'Correct aliens shot (total)': 4, 'Score': 50, 'Time played': datetime.timedelta(seconds=29)}}>,\n",
                            " <Episode(episode_id=f7628de6ed3442259564d7503551a057, environment_id=54f4202144a64ebc968825b28374d0a6, kwdata={'all': {'created_on': datetime.datetime(2021, 10, 4, 2, 53, 51)}, 'game_0>player_0': {'Active playtime': datetime.timedelta(seconds=55), 'Correct aliens shot (fraction)': 1.0, 'Correct aliens shot (total)': 11, 'Score': 180, 'Time played': datetime.timedelta(seconds=55)}}>,\n",
                            " <Episode(episode_id=faad90f70c5b46ce8746cc790e627691, environment_id=54f4202144a64ebc968825b28374d0a6, kwdata={'all': {'created_on': datetime.datetime(2021, 10, 4, 2, 58, 1)}, 'game_0>player_0': {'Active playtime': datetime.timedelta(seconds=54), 'Correct aliens shot (fraction)': 1.0, 'Correct aliens shot (total)': 16, 'Score': 260, 'Time played': datetime.timedelta(seconds=54)}}>,\n",
                            " <Episode(episode_id=05ad2b206f584834881e5aac9ee31391, environment_id=635af12d91944821808347d980391530, kwdata={'all': {'created_on': datetime.datetime(2021, 10, 3, 10, 47, 20)}, 'game_0>player_0': {'Active playtime': datetime.timedelta(seconds=42), 'Correct aliens shot (fraction)': 1.0, 'Correct aliens shot (total)': 24, 'Score': 420, 'Time played': datetime.timedelta(seconds=42)}}>,\n",
                            " <Episode(episode_id=081517a5ffe64c98ab75a4ecd54f6ae2, environment_id=635af12d91944821808347d980391530, kwdata={'all': {'created_on': datetime.datetime(2021, 10, 3, 10, 49, 51)}, 'game_0>player_0': {'Active playtime': datetime.timedelta(seconds=50), 'Correct aliens shot (fraction)': 1.0, 'Correct aliens shot (total)': 23, 'Score': 590, 'Time played': datetime.timedelta(seconds=50)}}>,\n",
                            " <Episode(episode_id=0a896845063c4b129dc1da4d040bf09b, environment_id=635af12d91944821808347d980391530, kwdata={'all': {'created_on': datetime.datetime(2021, 10, 3, 10, 52, 29)}, 'game_0>player_0': {'Active playtime': datetime.timedelta(seconds=48), 'Correct aliens shot (fraction)': 1.0, 'Correct aliens shot (total)': 18, 'Score': 515, 'Time played': datetime.timedelta(seconds=48)}}>,\n",
                            " <Episode(episode_id=2465eb16546145a48bba664db47c81f1, environment_id=635af12d91944821808347d980391530, kwdata={'all': {'created_on': datetime.datetime(2021, 10, 3, 10, 48, 53)}, 'game_0>player_0': {'Active playtime': datetime.timedelta(seconds=54), 'Correct aliens shot (fraction)': 1.0, 'Correct aliens shot (total)': 24, 'Score': 620, 'Time played': datetime.timedelta(seconds=54)}}>,\n",
                            " <Episode(episode_id=2544fa37f0974918a523378a03f55399, environment_id=635af12d91944821808347d980391530, kwdata={'all': {'created_on': datetime.datetime(2021, 10, 3, 10, 50, 45)}, 'game_0>player_0': {'Active playtime': datetime.timedelta(seconds=61), 'Correct aliens shot (fraction)': 1.0, 'Correct aliens shot (total)': 19, 'Score': 345, 'Time played': datetime.timedelta(seconds=61)}}>,\n",
                            " <Episode(episode_id=362298c8350c4a11b97c2795d20b1abb, environment_id=635af12d91944821808347d980391530, kwdata={'all': {'created_on': datetime.datetime(2021, 10, 3, 10, 44, 42)}, 'game_0>player_0': {'Active playtime': datetime.timedelta(seconds=56), 'Correct aliens shot (fraction)': 1.0, 'Correct aliens shot (total)': 17, 'Score': 285, 'Time played': datetime.timedelta(seconds=56)}}>,\n",
                            " <Episode(episode_id=4dc7c66176ce4f5e9d33000afa0b2ba1, environment_id=635af12d91944821808347d980391530, kwdata={'all': {'created_on': datetime.datetime(2021, 10, 3, 10, 46, 37)}, 'game_0>player_0': {'Active playtime': datetime.timedelta(seconds=39), 'Correct aliens shot (fraction)': 1.0, 'Correct aliens shot (total)': 24, 'Score': 420, 'Time played': datetime.timedelta(seconds=39)}}>,\n",
                            " <Episode(episode_id=5e495865e10641cd81ee7a137f72def4, environment_id=635af12d91944821808347d980391530, kwdata={'all': {'created_on': datetime.datetime(2021, 10, 3, 10, 51, 49)}, 'game_0>player_0': {'Active playtime': datetime.timedelta(seconds=36), 'Correct aliens shot (fraction)': 1.0, 'Correct aliens shot (total)': 18, 'Score': 315, 'Time played': datetime.timedelta(seconds=36)}}>,\n",
                            " <Episode(episode_id=71822fe73a2c46f490a0a2156190702f, environment_id=635af12d91944821808347d980391530, kwdata={'all': {'created_on': datetime.datetime(2021, 10, 3, 10, 55, 3)}, 'game_0>player_0': {'Active playtime': datetime.timedelta(seconds=51), 'Correct aliens shot (fraction)': 1.0, 'Correct aliens shot (total)': 24, 'Score': 420, 'Time played': datetime.timedelta(seconds=51)}}>,\n",
                            " <Episode(episode_id=74b44136c8bf49458cea985eac163fcb, environment_id=635af12d91944821808347d980391530, kwdata={'all': {'created_on': datetime.datetime(2021, 10, 3, 10, 53, 21)}, 'game_0>player_0': {'Active playtime': datetime.timedelta(seconds=52), 'Correct aliens shot (fraction)': 1.0, 'Correct aliens shot (total)': 22, 'Score': 365, 'Time played': datetime.timedelta(seconds=52)}}>,\n",
                            " <Episode(episode_id=8d3c81773d09408f908ce1112b09faf3, environment_id=635af12d91944821808347d980391530, kwdata={'all': {'created_on': datetime.datetime(2021, 10, 3, 10, 54, 17)}, 'game_0>player_0': {'Active playtime': datetime.timedelta(seconds=43), 'Correct aliens shot (fraction)': 1.0, 'Correct aliens shot (total)': 25, 'Score': 425, 'Time played': datetime.timedelta(seconds=43)}}>,\n",
                            " <Episode(episode_id=c44e211b1b4b4dccb0a3d48db818a05c, environment_id=635af12d91944821808347d980391530, kwdata={'all': {'created_on': datetime.datetime(2021, 10, 3, 10, 48, 6)}, 'game_0>player_0': {'Active playtime': datetime.timedelta(seconds=43), 'Correct aliens shot (fraction)': 1.0, 'Correct aliens shot (total)': 23, 'Score': 390, 'Time played': datetime.timedelta(seconds=43)}}>,\n",
                            " <Episode(episode_id=c7400b0b330641f9878e8225670d44c7, environment_id=635af12d91944821808347d980391530, kwdata={'all': {'created_on': datetime.datetime(2021, 10, 3, 10, 45, 42)}, 'game_0>player_0': {'Active playtime': datetime.timedelta(seconds=52), 'Correct aliens shot (fraction)': 1.0, 'Correct aliens shot (total)': 24, 'Score': 420, 'Time played': datetime.timedelta(seconds=52)}}>,\n",
                            " <Episode(episode_id=6098f8ee316548d8a15c3e660f985226, environment_id=7b2b34127cc04e74b063c0cea7143653, kwdata={'all': {'created_on': datetime.datetime(2021, 9, 17, 2, 53, 12)}, 'game_0>player_0': {'Active playtime': datetime.timedelta(seconds=31), 'Correct aliens shot (fraction)': 1.0, 'Correct aliens shot (total)': 3, 'Score': 40, 'Time played': datetime.timedelta(seconds=31)}}>,\n",
                            " <Episode(episode_id=7c216b34eccf490eae7599e61e65ceaf, environment_id=7c20cf5d2b164fe18eac259a0218568e, kwdata={'all': {'created_on': datetime.datetime(2021, 10, 1, 8, 55, 5)}, 'game_0>player_0': {'Active playtime': datetime.timedelta(seconds=41), 'Correct aliens shot (fraction)': 1.0, 'Correct aliens shot (total)': 15, 'Score': 240, 'Time played': datetime.timedelta(seconds=41)}}>,\n",
                            " <Episode(episode_id=9870a1bf8e4c4437888b839422563911, environment_id=7c20cf5d2b164fe18eac259a0218568e, kwdata={'all': {'created_on': datetime.datetime(2021, 10, 1, 8, 54, 33)}, 'game_0>player_0': {'Active playtime': datetime.timedelta(seconds=28), 'Correct aliens shot (fraction)': 1.0, 'Correct aliens shot (total)': 5, 'Score': 75, 'Time played': datetime.timedelta(seconds=28)}}>,\n",
                            " <Episode(episode_id=e34c032421c242e7a011be4ad8fe2e40, environment_id=7c20cf5d2b164fe18eac259a0218568e, kwdata={'all': {'created_on': datetime.datetime(2021, 10, 1, 8, 55, 49)}, 'game_0>player_0': {'Active playtime': datetime.timedelta(seconds=40), 'Correct aliens shot (fraction)': 1.0, 'Correct aliens shot (total)': 10, 'Score': 155, 'Time played': datetime.timedelta(seconds=40)}}>,\n",
                            " <Episode(episode_id=ab7e2c49101442a58e7130463029b5b1, environment_id=7f251c1929f44f248320a69e4083b65c, kwdata={'all': {'created_on': datetime.datetime(2021, 10, 1, 8, 57, 12)}, 'game_0>player_0': {'Active playtime': datetime.timedelta(seconds=47), 'Correct aliens shot (fraction)': 1.0, 'Correct aliens shot (total)': 11, 'Score': 180, 'Time played': datetime.timedelta(seconds=47)}}>,\n",
                            " <Episode(episode_id=046c2cd001974debb61abd5908cd5bc9, environment_id=85a217ccecba4583af0afce3dd2caf5b, kwdata={'all': {'created_on': datetime.datetime(2021, 9, 17, 3, 1, 58)}, 'game_0>player_0': {'Active playtime': datetime.timedelta(seconds=43), 'Correct aliens shot (fraction)': 1.0, 'Correct aliens shot (total)': 20, 'Score': 310, 'Time played': datetime.timedelta(seconds=43)}}>,\n",
                            " <Episode(episode_id=53a8fe8684eb490e8b33f07fb75586db, environment_id=85a217ccecba4583af0afce3dd2caf5b, kwdata={'all': {'created_on': datetime.datetime(2021, 9, 17, 2, 59, 27)}, 'game_0>player_0': {'Active playtime': datetime.timedelta(seconds=45), 'Correct aliens shot (fraction)': 1.0, 'Correct aliens shot (total)': 21, 'Score': 335, 'Time played': datetime.timedelta(seconds=45)}}>,\n",
                            " <Episode(episode_id=5c680eccb746498b83bece9f56835702, environment_id=85a217ccecba4583af0afce3dd2caf5b, kwdata={'all': {'created_on': datetime.datetime(2021, 9, 17, 2, 50, 4)}, 'game_0>player_0': {'Active playtime': datetime.timedelta(seconds=43), 'Correct aliens shot (fraction)': 1.0, 'Correct aliens shot (total)': 20, 'Score': 315, 'Time played': datetime.timedelta(seconds=43)}}>,\n",
                            " <Episode(episode_id=7a3404bddcb2439fbc40b1312abccf28, environment_id=85a217ccecba4583af0afce3dd2caf5b, kwdata={'all': {'created_on': datetime.datetime(2021, 9, 17, 3, 3, 36)}, 'game_0>player_0': {'Active playtime': datetime.timedelta(seconds=55), 'Correct aliens shot (fraction)': 1.0, 'Correct aliens shot (total)': 20, 'Score': 330, 'Time played': datetime.timedelta(seconds=55)}}>,\n",
                            " <Episode(episode_id=7f998406bdf94a22a481eef1e4428ab5, environment_id=85a217ccecba4583af0afce3dd2caf5b, kwdata={'all': {'created_on': datetime.datetime(2021, 9, 17, 2, 52, 33)}, 'game_0>player_0': {'Active playtime': datetime.timedelta(seconds=48), 'Correct aliens shot (fraction)': 1.0, 'Correct aliens shot (total)': 21, 'Score': 345, 'Time played': datetime.timedelta(seconds=48)}}>,\n",
                            " <Episode(episode_id=83f56484ee4c4fa39cd24e9c7bba6ca1, environment_id=85a217ccecba4583af0afce3dd2caf5b, kwdata={'all': {'created_on': datetime.datetime(2021, 9, 17, 2, 53, 25)}, 'game_0>player_0': {'Active playtime': datetime.timedelta(seconds=45), 'Correct aliens shot (fraction)': 1.0, 'Correct aliens shot (total)': 21, 'Score': 335, 'Time played': datetime.timedelta(seconds=45)}}>,\n",
                            " <Episode(episode_id=8876be1da2074bad8f8d7ade982efd22, environment_id=85a217ccecba4583af0afce3dd2caf5b, kwdata={'all': {'created_on': datetime.datetime(2021, 9, 17, 2, 58, 32)}, 'game_0>player_0': {'Active playtime': datetime.timedelta(seconds=52), 'Correct aliens shot (fraction)': 1.0, 'Correct aliens shot (total)': 19, 'Score': 320, 'Time played': datetime.timedelta(seconds=52)}}>,\n",
                            " <Episode(episode_id=8c4c32f4c23b447094bed648dd1b2bc8, environment_id=85a217ccecba4583af0afce3dd2caf5b, kwdata={'all': {'created_on': datetime.datetime(2021, 9, 17, 3, 0, 16)}, 'game_0>player_0': {'Active playtime': datetime.timedelta(seconds=49), 'Correct aliens shot (fraction)': 1.0, 'Correct aliens shot (total)': 20, 'Score': 320, 'Time played': datetime.timedelta(seconds=49)}}>,\n",
                            " <Episode(episode_id=acde4ad80ee343cfa5612d99a3a8d63f, environment_id=85a217ccecba4583af0afce3dd2caf5b, kwdata={'all': {'created_on': datetime.datetime(2021, 9, 17, 2, 50, 51)}, 'game_0>player_0': {'Active playtime': datetime.timedelta(seconds=50), 'Correct aliens shot (fraction)': 1.0, 'Correct aliens shot (total)': 20, 'Score': 310, 'Time played': datetime.timedelta(seconds=50)}}>,\n",
                            " <Episode(episode_id=b10b93d7684b40fc805a1f63f3f3fb73, environment_id=85a217ccecba4583af0afce3dd2caf5b, kwdata={'all': {'created_on': datetime.datetime(2021, 9, 17, 2, 55, 47)}, 'game_0>player_0': {'Active playtime': datetime.timedelta(seconds=47), 'Correct aliens shot (fraction)': 1.0, 'Correct aliens shot (total)': 22, 'Score': 365, 'Time played': datetime.timedelta(seconds=47)}}>,\n",
                            " <Episode(episode_id=bd52762104ac4c6dbac5cb4bae4de2fc, environment_id=85a217ccecba4583af0afce3dd2caf5b, kwdata={'all': {'created_on': datetime.datetime(2021, 9, 17, 3, 2, 45)}, 'game_0>player_0': {'Active playtime': datetime.timedelta(seconds=48), 'Correct aliens shot (fraction)': 1.0, 'Correct aliens shot (total)': 22, 'Score': 360, 'Time played': datetime.timedelta(seconds=48)}}>,\n",
                            " <Episode(episode_id=c757248dc5ca437da4e4a4cc028017d4, environment_id=85a217ccecba4583af0afce3dd2caf5b, kwdata={'all': {'created_on': datetime.datetime(2021, 9, 17, 2, 54, 14)}, 'game_0>player_0': {'Active playtime': datetime.timedelta(seconds=42), 'Correct aliens shot (fraction)': 1.0, 'Correct aliens shot (total)': 24, 'Score': 420, 'Time played': datetime.timedelta(seconds=42)}}>,\n",
                            " <Episode(episode_id=d1dc12d9708848f4b26f4757fa3d0dc0, environment_id=85a217ccecba4583af0afce3dd2caf5b, kwdata={'all': {'created_on': datetime.datetime(2021, 9, 17, 2, 51, 45)}, 'game_0>player_0': {'Active playtime': datetime.timedelta(seconds=45), 'Correct aliens shot (fraction)': 1.0, 'Correct aliens shot (total)': 23, 'Score': 390, 'Time played': datetime.timedelta(seconds=45)}}>,\n",
                            " <Episode(episode_id=d2319fcc364e4dcbac7d1282ffc561c8, environment_id=85a217ccecba4583af0afce3dd2caf5b, kwdata={'all': {'created_on': datetime.datetime(2021, 9, 17, 2, 57, 42)}, 'game_0>player_0': {'Active playtime': datetime.timedelta(seconds=46), 'Correct aliens shot (fraction)': 1.0, 'Correct aliens shot (total)': 22, 'Score': 360, 'Time played': datetime.timedelta(seconds=46)}}>,\n",
                            " <Episode(episode_id=dfe6ce7b520c4e138132f4846ce7042b, environment_id=85a217ccecba4583af0afce3dd2caf5b, kwdata={'all': {'created_on': datetime.datetime(2021, 9, 17, 2, 55)}, 'game_0>player_0': {'Active playtime': datetime.timedelta(seconds=44), 'Correct aliens shot (fraction)': 1.0, 'Correct aliens shot (total)': 21, 'Score': 335, 'Time played': datetime.timedelta(seconds=44)}}>,\n",
                            " <Episode(episode_id=ee0c943ce00b4cddbbf2a004866dc3c8, environment_id=85a217ccecba4583af0afce3dd2caf5b, kwdata={'all': {'created_on': datetime.datetime(2021, 9, 17, 3, 1, 9)}, 'game_0>player_0': {'Active playtime': datetime.timedelta(seconds=45), 'Correct aliens shot (fraction)': 1.0, 'Correct aliens shot (total)': 22, 'Score': 560, 'Time played': datetime.timedelta(seconds=45)}}>,\n",
                            " <Episode(episode_id=f5fb4e421b764a5493d0992c0b19b395, environment_id=85a217ccecba4583af0afce3dd2caf5b, kwdata={'all': {'created_on': datetime.datetime(2021, 9, 17, 2, 56, 38)}, 'game_0>player_0': {'Active playtime': datetime.timedelta(seconds=61), 'Correct aliens shot (fraction)': 1.0, 'Correct aliens shot (total)': 21, 'Score': 335, 'Time played': datetime.timedelta(seconds=61)}}>,\n",
                            " <Episode(episode_id=3c4cbc9c78e34177b8a4507ab25df74d, environment_id=bdfef62917e84a29924a7f8359279256, kwdata={'all': {'created_on': datetime.datetime(2021, 10, 5, 21, 23, 37)}, 'game_0>player_0': {'Active playtime': datetime.timedelta(seconds=22), 'Correct aliens shot (fraction)': 1.0, 'Correct aliens shot (total)': 5, 'Score': 55, 'Time played': datetime.timedelta(seconds=22)}}>,\n",
                            " <Episode(episode_id=0c861ff2714a44ffad8e562ac7c19976, environment_id=d9b83555ebb94f8885231c9454796448, kwdata={'all': {'created_on': datetime.datetime(2021, 10, 1, 8, 44, 24)}, 'game_0>player_0': {'Active playtime': datetime.timedelta(seconds=25), 'Correct aliens shot (fraction)': 1.0, 'Correct aliens shot (total)': 6, 'Score': 105, 'Time played': datetime.timedelta(seconds=25)}}>,\n",
                            " <Episode(episode_id=fac32bc3349941d9b696c3fdf41b8036, environment_id=d9b83555ebb94f8885231c9454796448, kwdata={'all': {'created_on': datetime.datetime(2021, 10, 1, 8, 44, 53)}, 'game_0>player_0': {'Active playtime': datetime.timedelta(seconds=11), 'Correct aliens shot (fraction)': 1.0, 'Correct aliens shot (total)': 4, 'Score': 50, 'Time played': datetime.timedelta(seconds=11)}}>,\n",
                            " <Episode(episode_id=04e03aa7bdd64790aee346a8c883132b, environment_id=e28effaca03e4f3ca2840997bf954d50, kwdata={'all': {'created_on': datetime.datetime(2021, 10, 2, 8, 11, 18)}, 'game_0>player_0': {'Active playtime': datetime.timedelta(seconds=24), 'Correct aliens shot (fraction)': 1.0, 'Correct aliens shot (total)': 6, 'Score': 85, 'Time played': datetime.timedelta(seconds=24)}}>,\n",
                            " <Episode(episode_id=d78e743750b84d2cbed62229e7c3a6ff, environment_id=e28effaca03e4f3ca2840997bf954d50, kwdata={'all': {'created_on': datetime.datetime(2021, 10, 2, 8, 29, 19)}, 'game_0>player_0': {'Active playtime': datetime.timedelta(seconds=19), 'Correct aliens shot (fraction)': 1.0, 'Correct aliens shot (total)': 1, 'Score': 5, 'Time played': datetime.timedelta(seconds=19)}}>]"
                        ]
                    },
                    "execution_count": 50,
                    "metadata": {},
                    "output_type": "execute_result"
                }
            ],
            "source": [
                "# We could use this to filter episodes as well\n",
                "[e for e in all_episodes if e.environment.keyword_data['all']['game'] == 'space_invaders' and  e.environment.keyword_data['all']['task'] == 'insideout' and e.environment.keyword_data['all']['source'] == 'mturk' and e.keyword_data[P0]['Correct aliens shot (fraction)'] >= 0.99]\n"
            ]
        },
        {
            "cell_type": "code",
            "execution_count": 51,
            "metadata": {},
            "outputs": [
                {
                    "name": "stdout",
                    "output_type": "stream",
                    "text": [
                        "\\textbf{Beamrider} & \\textbf{7.90} & \\textbf{-} & \\textbf{-} & \\textbf{7.90} \\\\\n",
                        "\\textbf{Breakout} & \\textbf{11.45} & \\textbf{-} & \\textbf{-} & \\textbf{11.45} \\\\\n",
                        "\\textbf{Montezuma's Revenge} & \\textbf{16.70} & \\textbf{3.13} & \\textbf{5.19} & \\textbf{25.02} \\\\\n",
                        "\\textbf{Q*Bert} & \\textbf{6.97} & \\textbf{2.18} & \\textbf{-} & \\textbf{9.15} \\\\\n",
                        "\\textbf{Riverraid} & \\textbf{17.64} & \\textbf{3.71} & \\textbf{3.10} & \\textbf{24.44} \\\\\n",
                        "    - left & 6.78 & 0.25 & 0.70 & 7.73 \\\\\n",
                        "    - plain & 5.35 & 3.25 & 2.00 & 10.59 \\\\\n",
                        "    - right & 5.51 & 0.22 & 0.40 & 6.12 \\\\\n",
                        "\\textbf{Space Invaders} & \\textbf{149.73} & \\textbf{11.74} & \\textbf{7.10} & \\textbf{168.57} \\\\\n",
                        "    - insideout & 16.49 & 0.26 & 1.12 & 17.86 \\\\\n",
                        "    - insideout incentives & 28.48 & - & - & 28.48 \\\\\n",
                        "    - left & 18.80 & - & - & 18.80 \\\\\n",
                        "    - outsidein & 13.44 & - & - & 13.44 \\\\\n",
                        "    - plain & 13.22 & 11.39 & 5.98 & 30.59 \\\\\n",
                        "    - right & 36.35 & - & - & 36.35 \\\\\n",
                        "    - rowbyrow & 22.95 & 0.09 & - & 23.04 \\\\\n",
                        "\\textbf{Space Invaders (2P)} & \\textbf{50.73} & \\textbf{0.38} & \\textbf{0.38} & \\textbf{51.50} \\\\\n",
                        "    - competitive & 41.24 & - & 0.19 & 41.43 \\\\\n",
                        "    - cooperative & 9.49 & 0.38 & 0.19 & 10.06 \\\\\n",
                        "\\textbf{Space Invaders (2P w/AI)} & \\textbf{10.59} & \\textbf{1.28} & \\textbf{1.06} & \\textbf{12.93} \\\\\n",
                        "    - competitive & 6.45 & 0.82 & 0.71 & 7.98 \\\\\n",
                        "    - cooperative & 4.14 & 0.46 & 0.35 & 4.95 \\\\\n",
                        "\\\\ \\hline \\\\\n",
                        "\\textbf{Total} & \\textbf{271.71} & \\textbf{22.41} & \\textbf{16.83} & \\textbf{310.95 }\\\\\n"
                    ]
                }
            ],
            "source": [
                "# We can also use the metadata to analyze the dataset in various ways. \n",
                "# Most of the dataset discussion in the paper was based on such analysis.\n",
                "# The following code generates Table 2 in our paper, for instance.\n",
                "# Exact numbers might differ slightly because we include data added after the deadline.\n",
                "\n",
                "nice_task_names = {\n",
                "    'beam_rider': 'Beamrider',\n",
                "    'breakout': 'Breakout',\n",
                "    'montezuma_revenge': 'Montezuma\\'s Revenge', \n",
                "    'qbert': 'Q*Bert', \n",
                "    'riverraid': 'Riverraid', \n",
                "    'space_invaders': 'Space Invaders', \n",
                "    'space_invaders_2p': 'Space Invaders (2P)', \n",
                "    'space_invaders_ai': 'Space Invaders (2P w/AI)'\n",
                "}\n",
                "\n",
                "def get_total_time_by_variant(game=None, task=None, source=None, output = 'str'):\n",
                "    # Add this to base_condition to filter by date.\n",
                "    # x.keyword_data['all']['created_on'] < datetime(2021,10,1) and\n",
                "    base_condition = lambda x: 'game' in x.keyword_data['all'] and 'task' in x.keyword_data['all'] and 'source' in x.keyword_data['all']\n",
                "    def condition(name, var):\n",
                "        if isinstance(var, str):\n",
                "            return lambda x: x.keyword_data['all'][name]==var\n",
                "        elif isinstance(var,list) or isinstance(var,tuple):\n",
                "            return lambda x: x.keyword_data['all'][name] in var\n",
                "        else:\n",
                "            return lambda x: True\n",
                "    # We had here a check to split 2p time into 'real' 2p human-human time, and human-AI time, but this needs a lengthy offline calculcation so we skip it here.\n",
                "    # if game != 'space_invaders_2p' and game !='space_invaders_ai':\n",
                "    s = sum([env.keyword_data[P0]['Time played']/timedelta(hours=1) for env in all_environments if base_condition(env) and condition('game', game)(env) and condition('task', task)(env) and condition('source', source)(env)])\n",
                "    # elif game == 'space_invaders_ai':\n",
                "    #     s = sum([env.keyword_data[P0]['Time played']/timedelta(hours=1) for env in all_environments if base_condition(env) and condition('game', game)(env) and condition('task', task)(env) and condition('source', source)(env)])\n",
                "    #     s += sum([sum([ep.keyword_data['all']['total_frames_humanai']/(60*60*60) for ep in env.episodes]) for env in all_environments if base_condition(env) and condition('game', 'space_invaders_2p')(env) and condition('task', task)(env) and condition('source', source)(env)])\n",
                "    \n",
                "    # else: \n",
                "    #     s = sum([sum([ep.keyword_data['all']['total_frames_humanhuman']/(60*60*60) for ep in env.episodes]) for env in all_environments if base_condition(env) and condition('game', game)(env) and condition('task', task)(env) and condition('source', source)(env)])\n",
                "    \n",
                "    if output == 'float':\n",
                "        return s\n",
                "    if s > 0:\n",
                "        return f\"{s:.2f}\"\n",
                "    return '-'\n",
                "\n",
                "for g in sorted(all_games):\n",
                "    print(f\"\\\\textbf{{{nice_task_names[g]}}} & \\\\textbf{{{get_total_time_by_variant(game=g, source='mturk')}}} & \\\\textbf{{{get_total_time_by_variant(game=g, source='socialmedia')}}} & \\\\textbf{{{get_total_time_by_variant(game=g, source='email')}}} & \\\\textbf{{{get_total_time_by_variant(game=g)}}} \\\\\\\\\")\n",
                "    n = 0\n",
                "    for t in sorted(all_tasks_kw):\n",
                "        if get_total_time_by_variant(game=g, task=t, output='float') > 0:\n",
                "            n += 1\n",
                "    if n > 1:\n",
                "        for t in sorted(all_tasks_kw):\n",
                "            if get_total_time_by_variant(game=g, task=t, output='float') > 0:\n",
                "                print(f\"    - {t.replace('_', ' ')} & {get_total_time_by_variant(game=g, task=t, source='mturk')} & {get_total_time_by_variant(game=g, task=t, source='socialmedia')} & {get_total_time_by_variant(game=g, task=t, source='email')} & {get_total_time_by_variant(game=g, task=t)} \\\\\\\\\")\n",
                "print(\"\\\\\\\\ \\hline \\\\\\\\\")\n",
                "print(f\"\\\\textbf{{Total}} & \\\\textbf{{{get_total_time_by_variant(source='mturk')}}} & \\\\textbf{{{get_total_time_by_variant(source='socialmedia')}}} & \\\\textbf{{{get_total_time_by_variant(source='email')}}} & \\\\textbf{{{get_total_time_by_variant()} }}\\\\\\\\\")\n"
            ]
        },
        {
            "cell_type": "code",
            "execution_count": 52,
            "metadata": {},
            "outputs": [
                {
                    "name": "stdout",
                    "output_type": "stream",
                    "text": [
                        "Total number of unique visitors 895\n"
                    ]
                }
            ],
            "source": [
                "# We can also look at the total number of unique visitors:\n",
                "total_users = len({user.permanent_user_id for user in all_users})\n",
                "print(f\"Total number of unique visitors {total_users}\")"
            ]
        },
        {
            "cell_type": "code",
            "execution_count": 53,
            "metadata": {},
            "outputs": [
                {
                    "data": {
                        "image/png": "[encoded data removed]",
                        "text/plain": [
                            "<Figure size 432x288 with 1 Axes>"
                        ]
                    },
                    "metadata": {},
                    "output_type": "display_data"
                }
            ],
            "source": [
                "# Or we could plot the data collected per day.\n",
                "# You might need to pip install matplotlib, pandas and seaborn for this.\n",
                "\n",
                "\n",
                "import matplotlib.pyplot as plt\n",
                "import pandas\n",
                "import seaborn as sns\n",
                "sns.set()\n",
                "\n",
                "dates = {}\n",
                "offset = timedelta(hours=4)\n",
                "for source in all_sources:\n",
                "    for ep in [e for e in all_episodes if 'source' in e.environment.keyword_data['all'] and e.environment.keyword_data['all']['source'] == source]:\n",
                "        if (ep.keyword_data['all']['created_on']-offset).date() not in dates:\n",
                "            dates[(ep.keyword_data['all']['created_on']-offset).date()] = {}\n",
                "        if source not in dates[(ep.keyword_data['all']['created_on']-offset).date()]:\n",
                "            dates[(ep.keyword_data['all']['created_on']-offset).date()][source] = ep.keyword_data[P0]['Time played'].total_seconds() / 3600\n",
                "        else:\n",
                "            dates[(ep.keyword_data['all']['created_on']-offset).date()][source] += ep.keyword_data[P0]['Time played'].total_seconds() / 3600\n",
                "dates_list = []\n",
                "for d in dates.keys():\n",
                "    for source in dates[d].keys():\n",
                "        dates_list.append([d, source, dates[d][source]])\n",
                "dates_dataframe = pandas.DataFrame(dates_list, columns=['Date', 'Source', 'Amount of Data'])\n",
                "\n",
                "plot = sns.lineplot(x='Date', y='Amount of Data', hue='Source', data=dates_dataframe)\n",
                "# plot.set_yscale(\"log\")\n",
                "# plt.ylim(0,5)\n",
                "plt.xticks(rotation=90)\n",
                "plt.show()\n",
                "plt.close()"
            ]
        },
        {
            "cell_type": "code",
            "execution_count": null,
            "metadata": {},
            "outputs": [],
            "source": []
        }
    ],
    "metadata": {
        "interpreter": {
            "hash": "99b21b819f02914b139f12a091dfe3e91d68cdc01c440d5eaa2d0623ce621d44"
        },
        "kernelspec": {
            "display_name": "Python 3.7.7 64-bit ('atari-crowdsourcing-test': pyenv)",
            "name": "python3"
        },
        "language_info": {
            "codemirror_mode": {
                "name": "ipython",
                "version": 3
            },
            "file_extension": ".py",
            "mimetype": "text/x-python",
            "name": "python",
            "nbconvert_exporter": "python",
            "pygments_lexer": "ipython3",
            "version": "3.7.7"
        },
        "orig_nbformat": 4
    },
    "nbformat": 4,
    "nbformat_minor": 2
}